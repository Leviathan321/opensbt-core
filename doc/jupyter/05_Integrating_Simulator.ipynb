{
 "cells": [
  {
   "cell_type": "markdown",
   "metadata": {},
   "source": [
    "# Integrating Simulator\n",
    "\n",
    "This tutorial shows how to integrate a simulator into OpenSBT, in particular how to write an adapter for a simulation. As an example we use the implemented adapter CarlaRunner for the CARLA Simulator."
   ]
  }
 ],
 "metadata": {
  "language_info": {
   "name": "python"
  },
  "orig_nbformat": 4
 },
 "nbformat": 4,
 "nbformat_minor": 2
}
