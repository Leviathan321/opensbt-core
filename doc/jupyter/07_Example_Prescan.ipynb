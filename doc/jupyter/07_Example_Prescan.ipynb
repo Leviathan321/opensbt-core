{
 "cells": [
  {
   "cell_type": "markdown",
   "metadata": {},
   "source": [
    "# Using OpenSBT with the PreScan Simulator"
   ]
  },
  {
   "cell_type": "markdown",
   "metadata": {},
   "source": [
    "<div class=\"alert alert-block alert-warning\">\n",
    "\n",
    "**REQUIREMENTS**\n",
    "\n",
    "_Hardware_\n",
    "\n",
    "| Component| Requirements |\n",
    "| --- | --- |\n",
    "| CPU | Quad-core Intel or AMD, 2.5 GHz or faster |\n",
    "| GPU | NVIDIA GeForce 960 GTX or higher with 8 GB VRAM or more |\n",
    "| RAM | 32 GB or more |\n",
    "\n",
    "_Software_\n",
    "\n",
    "* Windows 11\n",
    "* Python 3.7\n",
    "* Prescan 2019.3\n",
    "* MATLAB 2019\n",
    "\n",
    "Note, that Prescan is a proprietary program why this jupyter notebook is only runnable with a valid Prescan license. Also in this example the SUT is an industrial AEB that could not have been disclosed for this tutorial.\n",
    "\n",
    "</div>"
   ]
  },
  {
   "cell_type": "markdown",
   "metadata": {},
   "source": [
    "In this tutorial we show how to perform testing an AEB provided as a simulink model simulated in the Prescan Simulator using OpenSBT. "
   ]
  },
  {
   "cell_type": "markdown",
   "metadata": {},
   "source": [
    "((Show how to integrate PrescanRunner))\n",
    "\n",
    "As shown in the tutorial for integrating simulator we need to implement a Prescan specific simulator adapter to integrated the Prescan simulator to be used with OpenSBT.\n"
   ]
  },
  {
   "cell_type": "markdown",
   "metadata": {},
   "source": [
    "((Show the structure of files of the SUT/Experiment))"
   ]
  },
  {
   "cell_type": "markdown",
   "metadata": {},
   "source": [
    "((Show definition of example experiment))"
   ]
  },
  {
   "cell_type": "markdown",
   "metadata": {},
   "source": [
    "((Show visualization of execution))"
   ]
  },
  {
   "cell_type": "markdown",
   "metadata": {},
   "source": [
    "((Show results output))"
   ]
  }
 ],
 "metadata": {
  "kernelspec": {
   "display_name": "venv",
   "language": "python",
   "name": "venv"
  },
  "language_info": {
   "codemirror_mode": {
    "name": "ipython",
    "version": 3
   },
   "file_extension": ".py",
   "mimetype": "text/x-python",
   "name": "python",
   "nbconvert_exporter": "python",
   "pygments_lexer": "ipython3",
   "version": "3.8.10 (default, May 26 2023, 14:05:08) \n[GCC 9.4.0]"
  },
  "vscode": {
   "interpreter": {
    "hash": "936ca7e20bca62b66c7c316e70494dc6b833065bb3866688df5c5758a2e02a05"
   }
  }
 },
 "nbformat": 4,
 "nbformat_minor": 2
}
