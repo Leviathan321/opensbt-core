{
 "cells": [
  {
   "cell_type": "markdown",
   "metadata": {},
   "source": [
    "# Experiment Configuration and Execution\n",
    "\n",
    "In this tutorial we show how to configure and execute an experiment in OpenSBT to test an ADS Agent. We show the configuration of the experiment for the simulation of an agent in the DummySimulator (simplistic SUT & Simulation, no GPU required).\n",
    "\n"
   ]
  },
  {
   "cell_type": "markdown",
   "metadata": {},
   "source": [
    "# Description Use Case\n",
    "\n",
    "The dummy simulations use case contains an AEB agent and another pedestrian. Both actors move linear, while pedestrian has a fixed trajectory and fixed velocity, the ego agent has a predefined path but can modife his velocity. I.e. he brakes when he detects other actors within a predefined range.\n",
    "We want to test the AEB agent in violating the safety distance of 1m. For this we want to vary the initial velocities of both actors as well the orientation of the pedestrian crossing the agents lane.\n",
    "\n",
    "In particlar, the pedestrian has a speed in the range of [0.2, 3] m/s, the ego [1, 10] m/s, while orientation range is [0,180] degrees."
   ]
  },
  {
   "cell_type": "markdown",
   "metadata": {},
   "source": [
    "### Defining An Experiment\n",
    "\n",
    "To define an experiment we need to instantiate `ADASProblem`.\n",
    "\n",
    "ADASProblem holds:\n",
    "\n",
    "- the **scenario** - which can be an OpenSCENARIO file, or file of another format supported by simulator\n",
    "- the **search variables** - whose values are altered to produce (different) scenario througout the search\n",
    "- the **search space** represented by the lower and upper bounds as arrays\n",
    "- the **fitness function** \n",
    "- the **criticality function** - represents the safety requirements/testing oracle\n",
    "- the **simulate function** - the simulator is triggered via this function\n",
    "- the **simulator-related variables**, i.e., simulation time, sampling time, toggle for visualization\n",
    "\n",
    "Note, that for now the SUT is defined via the simulator functions, as we assume that the SUT is embedded into the simulator. We are working on an update where the SUT can be define uncoupled from the simulator.\n",
    "\n",
    "We \n",
    "\n",
    "\n",
    "```python\n",
    "\n",
    "from problem import ADASProblem\n",
    "\n",
    "problem = ADASProblem(\n",
    "                        problem_name=\"DummySimulatorProblem,\n",
    "                        scenario_path=\"/scenarios/DummyScenario.xosc\",\n",
    "                        xl=[0.5, 1, 0],\n",
    "                        xu=[3, 80, 60],\n",
    "                        simulation_variables=[\n",
    "                            \"PedestrianSpeed\",\n",
    "                            \"FinalHostSpeed\",\n",
    "                            \"PedestrianEgoDistanceStartWalk\"],\n",
    "                        fitness_function=MyFitnessFunction(),  \n",
    "                        critical_function=MyCriticalityFunction(),\n",
    "                        simulate_function=MySimulator.simulate,\n",
    "                        simulation_time=10,\n",
    "                        sampling_time=100,\n",
    "                        do_visualize = False\n",
    "                        )\n",
    "                        \n",
    "```\n"
   ]
  },
  {
   "cell_type": "markdown",
   "metadata": {},
   "source": [
    "\n",
    "### Executing An Experiment From Code\n",
    "\n",
    "We have two options to execute an experiment: via console or via the code directly.\n",
    "\n",
    "To start search without console, we instantiate the optimizer class of our corresponding algorithm and can directly run the search. To write the results, we can pass to the corresponding writing method the optimization paramaters. The results will be written in the default folder name `results`. A different folder name can be also passed.\n",
    "\n",
    "```python\n",
    "# Instantiate search algorithm\n",
    "optimizer = NsgaIIOptimizer(\n",
    "                            problem=problem,\n",
    "                            config=DefaultSearchConfiguration()\n",
    "                            )\n",
    "# Run search\n",
    "res = optimizer.run()\n",
    "\n",
    "# Write results\n",
    "\n",
    "res.write_results(params = optimizer.parameters)\n",
    "```\n",
    "\n"
   ]
  },
  {
   "cell_type": "markdown",
   "metadata": {},
   "source": [
    "### Starting Search Using Console\n",
    "\n",
    "For this option as next step we need to create an `Experiment` instance, where we specify the algorithm to be used for the search and its configuration.\n",
    "The experiment requires following inputs:\n",
    "\n",
    "- the name\n",
    "- the created problem, \n",
    "- the search algorithm and \n",
    "- the search configuration\n",
    "\n",
    "Consider, the algorithm is an enumeration value which need to be registed beforehand via the algorithm.py script.\n",
    "\n",
    "```python\n",
    "experiment = Experiment(name=\"1\",\n",
    "                        problem=problem,\n",
    "                        algorithm=AlgorithmType.NSGAII,\n",
    "                        search_configuration=DefaultSearchConfiguration())\n",
    "```\n",
    "\n",
    "Then we register the experiment so that we can use it later via console.\n",
    "\n",
    "```python\n",
    "experiments_store.register(experiment)\n",
    "```\n",
    "\n",
    "To start search via console we run the experiment with the name \"1\":\n",
    "\n",
    "```bash\n",
    "python run.py -e 1\n",
    "```\n",
    "\n",
    "We can change the experiment parameter as e.g., lower and upper bounds of the search parameters and the search time by using flags:\n",
    "\n",
    "\n",
    "```bash\n",
    "python run.py -e 1 -min 0 0 -max 10 2 -m  \"FinalHostSpeed\" \"PedestrianSpeed\" -t \"01:00:00\"\n",
    "```\n",
    "\n",
    "The complete list of flags is available (here)[].\n"
   ]
  },
  {
   "cell_type": "markdown",
   "metadata": {},
   "source": []
  }
 ],
 "metadata": {
  "kernelspec": {
   "display_name": "venv",
   "language": "python",
   "name": "python3"
  },
  "language_info": {
   "name": "python",
   "version": "3.8.10 (default, May 26 2023, 14:05:08) \n[GCC 9.4.0]"
  },
  "orig_nbformat": 4,
  "vscode": {
   "interpreter": {
    "hash": "936ca7e20bca62b66c7c316e70494dc6b833065bb3866688df5c5758a2e02a05"
   }
  }
 },
 "nbformat": 4,
 "nbformat_minor": 2
}
