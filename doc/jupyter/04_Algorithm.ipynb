{
 "cells": [
  {
   "cell_type": "markdown",
   "metadata": {},
   "source": [
    "# Search Algorithm Integration\n",
    "\n",
    "In this tutorial we show to integrate search algorithms in OpenSBT and use them for testing an ADS."
   ]
  },
  {
   "cell_type": "markdown",
   "metadata": {},
   "source": [
    "To integrate a search algorithm we need to create a new class that subclasses the `Optimizer` class. There are further three options for the integration:\n",
    "    \n",
    "    - 1) If the algorithm exists in `pymoo`, we can instantiate it in the `run` method and assign it to the `algorithm` variable\n",
    "    - 2) If the algorithm does not exist in pymoo,             \n",
    "            a) override `run` and implement the algorithm into the run method. The type of the returned object should be a `SimulationResult`.\n",
    "    -  b) we create a new algorithm by sublassing the `Algorithm` class from pymoo and use approach 1) for integration.\n",
    "\n",
    "We show in the following in detail for each of the cases how the integration is done.\n",
    "\n",
    "## Search Algorithm exists in Pymoo\n",
    "\n",
    "As an example we want to integrate the Particle Swarm Optimization algorithm - wich already exists in [pymoo](https://github.com/anyoptimization/pymoo/blob/main/pymoo/algorithms/soo/nonconvex/pso.py#L130) - into OpenSBT. \n",
    "\n",
    "The final PSO related Optimizer class looks as follows:\n",
    "```python\n",
    "class PSOOptimizer(Optimizer):\n",
    "\n",
    "    # This name is used in the output plots \n",
    "    algorithm_name = \"PSO\"\n",
    "\n",
    "    def __init__(self,\n",
    "                problem: Problem,\n",
    "                config: SearchConfiguration):\n",
    "\n",
    "        log.info(\"Initialized PSO Optimizer\")\n",
    "        \n",
    "        # Default code\n",
    "        self.config = config\n",
    "        self.problem = problem\n",
    "        self.res = None\n",
    "\n",
    "        # The parameters dict is forwarded to the output and is algorithm specific;\n",
    "        # It contains information about the algorithm configuration\n",
    "        self.parameters = {\n",
    "            \"Population size\" : str(config.population_size),\n",
    "            \"Max number of generations\" : str(config.n_generations),\n",
    "        }\n",
    "\n",
    "        # Initialize pymoo algorithm\n",
    "        self.algorithm = PSO(\n",
    "            pop_size=config.population_size,\n",
    "        )\n",
    "\n",
    "        # ((TODO: can push this in optimizer))\n",
    "\n",
    "        ''' Prioritize max search time over set maximal number of generations'''\n",
    "        if config.maximal_execution_time is not None:\n",
    "            self.termination = get_termination(\"time\", config.maximal_execution_time)\n",
    "        else:\n",
    "            self.termination = get_termination(\"n_gen\", config.n_generations)\n",
    "\n",
    "        # ((Do we need that?))\n",
    "        self.save_history = True\n",
    "```\n",
    "\n",
    "Registration of algorithm (TODO)\n",
    "\n",
    "Adding to run (TODO)\n",
    "\n",
    "## Search Algorithm does not exist in Pymoo\n",
    "\n",
    "((TODO)) NSGAII-DT example\n",
    "\n",
    "1. User needs to create a results object\n",
    "2. Else?\n",
    "\n",
    "\n",
    "\n",
    "\n",
    "\n",
    "\n",
    "\n"
   ]
  }
 ],
 "metadata": {
  "kernelspec": {
   "display_name": "venv",
   "language": "python",
   "name": "python3"
  },
  "language_info": {
   "name": "python",
   "version": "3.8.10 (default, May 26 2023, 14:05:08) \n[GCC 9.4.0]"
  },
  "orig_nbformat": 4,
  "vscode": {
   "interpreter": {
    "hash": "936ca7e20bca62b66c7c316e70494dc6b833065bb3866688df5c5758a2e02a05"
   }
  }
 },
 "nbformat": 4,
 "nbformat_minor": 2
}
