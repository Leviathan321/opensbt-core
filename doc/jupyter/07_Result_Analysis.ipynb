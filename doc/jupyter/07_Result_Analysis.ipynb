{
 "cells": [
  {
   "cell_type": "markdown",
   "metadata": {},
   "source": [
    "\n",
    "# Results Output\n",
    "\n",
    "An executed experiment in OpenSBT produces several artefacts. All artefacts are written into the *results* folder in a folder named as the problem name. \n",
    "OpenSBT generates the following outputs:\n",
    "\n",
    "\n",
    "| Type | Description | Example | \n",
    "|:--------------|:-------------:|--------------:|\n",
    "| Design Space Plot | Visualization of all evaluated test cases in the input space + of predited critical regions using the decision tree algorithm. Constraints of derived regions are stored in CSV file [bounds_regions.csv](doc/example/results/single/PedestrianCrossingStartWalk/NSGA2/ex2/classification/bounds_regions.csv) and the learned tree in [tree.pdf](example/results/single/PedestrianCrossingStartWalk/NSGA2/ex2/classification/tree.pdf) | <img src=\"example/results/single/PedestrianCrossingStartWalk/NSGA2/ex2/design_space/FinalHostSpeed_PedestrianEgoDistanceStartWalk.png\" alt=\"Design Space Plot\" width=\"600\"/>  |\n",
    "| Scenario 2D visualization | Visualization of traces of the ego vehicle and adversaries in a two-dimensional GIF animation | <img src=\"doc/example/results/single/PedestrianCrossingStartWalk/NSGA2/ex2/gif/0_trajectory.gif\" alt=\"Scenario Visualization\" width=\"600\"/> |\n",
    "Objective Space Plot | Visualization of fitness values of evaluated test cases   | <img src=\"/example/results/single/PedestrianCrossingStartWalk/NSGA2/ex1/objective_space/Min%20distance_Velocity%20at%20min%20distance.png\" alt=\"Objective Space Plot\" width=\"600\"/> |\n",
    "| All Testcases |  CSV file of all test inputs of all evaluated testcases | [all_testcases.csv](/doc/example/results/single/PedestrianCrossingStartWalk/NSGA2/ex2/all_testcases.csv) |\n",
    "| All Critical Testcases |  CSV file of all critical test inputs of all evaluated testcases | [critical_testcases.csv](/doc/example/results/single/PedestrianCrossingStartWalk/NSGA2/ex2/critical_testcases.csv)|\n",
    "| Calculation Properties |  CSV file of all experiment configuration parameters (e.g. algorithm parameters, such as population size, number iterations; search space, fitness function etc..).  | [calculation_properties.csv](/doc/example/results/single/PedestrianCrossingStartWalk/NSGA2/ex2/calculation_properties.csv) |\n",
    "| Evaluation Results |  CSV file containing performance values of the algorithm, e.g., number critical test cases found in relation to all evaluations, execution time.| [summary_results.csv](/doc/example/results/single/PedestrianCrossingStartWalk/NSGA2/ex2/summary_results.csv)|"
   ]
  }
 ],
 "metadata": {
  "kernelspec": {
   "display_name": "venv",
   "language": "python",
   "name": "python3"
  },
  "language_info": {
   "name": "python",
   "version": "3.8.10 (default, May 26 2023, 14:05:08) \n[GCC 9.4.0]"
  },
  "orig_nbformat": 4,
  "vscode": {
   "interpreter": {
    "hash": "936ca7e20bca62b66c7c316e70494dc6b833065bb3866688df5c5758a2e02a05"
   }
  }
 },
 "nbformat": 4,
 "nbformat_minor": 2
}
