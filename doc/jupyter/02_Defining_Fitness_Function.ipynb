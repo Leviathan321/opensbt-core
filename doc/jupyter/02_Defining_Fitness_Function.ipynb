{
 "cells": [
  {
   "cell_type": "markdown",
   "metadata": {},
   "source": [
    "# Defining the Fitness and Criticality function\n",
    "\n",
    "## Fitness Function\n",
    "\n",
    "\n",
    "In this tutorial we want to specify two fitness functions for the AEB case study: \n",
    "\n",
    "F1) the first fitness function evaluates the distance between the ego vehicle and the pedestrian. \n",
    "F2) the second fitness function measaures the velocity of the ego vehicle at the time of the minimal distance\n",
    "\n",
    "By minimizing F1) and maximizing F2) we want to identify failure-revealing test cases. \n",
    "\n",
    "OpenSBT provdes the interface `Fitness` to implement fitness functions. `Fitness` provides the `eval` function which needs to be implemented with concrete evaluation instructions. The `eval`function receives as input an instance of  [`SimulationOutput`](https://git.fortiss.org/opensbt/opensbt-core/-/blob/main/simulation/simulator.py#L40-62) and returns a scalar or a vector valued output. \n",
    "A scalar value is returned when one function is to be optimized, and otherwise a vector valued output is returned. such as in our example. Further `Fitness` contains the `min_max` function which has to return a tuple of `min` or `max` strings indicating whether the corresponding objective function is minimized or maximized. \n",
    "In the `name` function we provide names for both fitness functions to be shown in output artefacts.\n",
    "\n",
    "The implementation of the examplary fitness function in OpenSBT then looks as follows:\n",
    "\n"
   ]
  },
  {
   "cell_type": "code",
   "execution_count": null,
   "metadata": {},
   "outputs": [],
   "source": [
    "class FitnessMinDistanceVelocity(Fitness):\n",
    "    @property\n",
    "    def min_or_max(self):\n",
    "        return \"min\", \"max\"\n",
    "\n",
    "    @property\n",
    "    def name(self):\n",
    "        return \"Min distance\", \"Velocity at min distance\"\n",
    "\n",
    "    def eval(self, simout: SimulationOutput) -> Tuple[float]:\n",
    "        traceEgo = simout.location[\"ego\"]                     # The actor names have to match the names written into the simulationoutput instance by the simulation adapter\n",
    "        tracePed = simout.location[\"adversary\"]              \n",
    "\n",
    "        ind_min_dist = np.argmin(geometric.distPair(traceEgo, tracePed))\n",
    "\n",
    "        # distance between ego and other object\n",
    "        distance = np.min(geometric.distPair(traceEgo, tracePed))\n",
    "\n",
    "        # speed of ego at time of the minimal distance\n",
    "        speed = simout.speed[\"ego\"][ind_min_dist]\n",
    "\n",
    "        return (distance, speed)\n"
   ]
  },
  {
   "cell_type": "markdown",
   "metadata": {},
   "source": [
    "## Criticality Function\n",
    "\n",
    "Beside a fitness function,often a safety requirement/testing oracle is given, which specifies which test inputs are failure-revealing or not. In our example, such safety requirement is: \"A test input is critical, when F1 is below .5m and ego vehicles velocity is not 0. In OpenSBT, such requirements are represented by the interface class [Critical](evaluation/critical.py). `Critical` offers the method `eval`, where specific constraints can be implemented. It received as input the fitness vector in form of an array, and the simulation output for the corresponding test input."
   ]
  },
  {
   "cell_type": "code",
   "execution_count": null,
   "metadata": {},
   "outputs": [],
   "source": [
    "class CriticalExample(Critical):\n",
    "    def eval(self, vector_fitness, simout: SimulationOutput = None):\n",
    "        # Corresponds F1 < 0.7 and F2 > 0 (inverted because optimization)\n",
    "        if (vector_fitness[0] < 0.5) and (vector_fitness[1] < 0):\n",
    "            return True\n",
    "        else:\n",
    "            return False\n"
   ]
  }
 ],
 "metadata": {
  "kernelspec": {
   "display_name": "Python 3 (ipykernel)",
   "language": "python",
   "name": "python3"
  },
  "language_info": {
   "codemirror_mode": {
    "name": "ipython",
    "version": 3
   },
   "file_extension": ".py",
   "mimetype": "text/x-python",
   "name": "python",
   "nbconvert_exporter": "python",
   "pygments_lexer": "ipython3",
   "version": "3.9.16"
  },
  "vscode": {
   "interpreter": {
    "hash": "936ca7e20bca62b66c7c316e70494dc6b833065bb3866688df5c5758a2e02a05"
   }
  }
 },
 "nbformat": 4,
 "nbformat_minor": 2
}
