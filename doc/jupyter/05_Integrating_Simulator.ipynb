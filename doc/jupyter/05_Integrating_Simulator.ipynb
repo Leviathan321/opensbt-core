{
 "cells": [
  {
   "cell_type": "markdown",
   "metadata": {},
   "source": [
    "# Integrating Simulator\n",
    "\n",
    "This tutorial shows how to integrate a simulator into OpenSBT, in particular how to write an adapter for a simulation. As an example we use the implemented adapter CarlaRunner for the CARLA Simulator.\n",
    "\n",
    "((Show the strucutre of simout))\n",
    "\n",
    "((Sim adapter shall convert output in simout))\n",
    "\n",
    "((Inteface sim adapter OpenSBT))\n",
    "\n",
    "((Extension of simout))"
   ]
  },
  {
   "cell_type": "markdown",
   "metadata": {},
   "source": []
  },
  {
   "cell_type": "markdown",
   "metadata": {},
   "source": []
  }
 ],
 "metadata": {
  "language_info": {
   "name": "python"
  },
  "orig_nbformat": 4
 },
 "nbformat": 4,
 "nbformat_minor": 2
}
