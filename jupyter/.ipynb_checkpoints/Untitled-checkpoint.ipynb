{
 "cells": [
  {
   "cell_type": "code",
   "execution_count": 18,
   "id": "db909062",
   "metadata": {},
   "outputs": [
    {
     "name": "stdout",
     "output_type": "stream",
     "text": [
      "[1.00e+00 1.90e+00 2.80e+00 3.70e+00 4.60e+00 5.50e+00 6.40e+00 7.30e+00\n",
      " 8.20e+00 9.10e+00 1.00e+01 1.00e+00 9.00e-01 8.00e-01 7.00e-01 6.00e-01\n",
      " 5.00e-01 4.00e-01 3.00e-01 2.00e-01 1.00e-01 0.00e+00 1.00e+00 1.09e+01\n",
      " 2.08e+01 3.07e+01 4.06e+01 5.05e+01 6.04e+01 7.03e+01 8.02e+01 9.01e+01\n",
      " 1.00e+02 1.00e+01 1.00e+01 1.00e+01 1.00e+01 1.00e+01 1.00e+01 1.00e+01\n",
      " 1.00e+01 1.00e+01 1.00e+01]\n"
     ]
    }
   ],
   "source": [
    "from array import array\n",
    "from math import sin,cos,pi,ceil\n",
    "import numpy as np\n",
    "\n",
    "def planMotion(startingPosition,orientation,velocity,simTime,samplingTime):\n",
    "    theta = orientation \n",
    "    T = simTime\n",
    "    v = velocity\n",
    "    t = samplingTime\n",
    "    \n",
    "    S = v*simTime\n",
    "    distX = sin(theta*pi/180)*S\n",
    "    distY = cos(theta*pi/180)*S\n",
    "    nSteps = ceil(T/t)\n",
    "\n",
    "    stepDistX = distX/nSteps\n",
    "    stepDistY = distY/nSteps\n",
    "    \n",
    "    res = np.arange(4,nSteps)\n",
    "    \n",
    "    arrayTime = np.linspace(1, simTime, nSteps + 1)\n",
    "    arrayX = np.linspace(startingPosition[0], distX, nSteps + 1 )\n",
    "    arrayY = np.linspace(startingPosition[1], distY, nSteps + 1)\n",
    "    arrayV = velocity * np.ones(nSteps, dtype=np.int64)\n",
    "\n",
    "    return np.concatenate((arrayTime,arrayX,arrayY,arrayV))\n",
    "\n",
    "motion = planMotion(np.array([1,1]),0,10,10,1)\n",
    "\n",
    "print(motion)"
   ]
  },
  {
   "cell_type": "code",
   "execution_count": 19,
   "id": "6f35e2b7",
   "metadata": {},
   "outputs": [
    {
     "name": "stdout",
     "output_type": "stream",
     "text": [
      "[11.11111111 12.22222222 13.33333333 14.44444444 15.55555556 16.66666667\n",
      " 17.77777778 18.88888889 20.        ]\n"
     ]
    }
   ],
   "source": [
    "a = np.linspace(1,2,10)\n",
    "b = np.linspace(10,20,10)\n",
    "c = np.concatenate([[a],[b]]).reshape(2,10)\n",
    "\n",
    "print(c[1,1:10])"
   ]
  },
  {
   "cell_type": "code",
   "execution_count": 21,
   "id": "538a8f18",
   "metadata": {
    "scrolled": true
   },
   "outputs": [
    {
     "ename": "ModuleNotFoundError",
     "evalue": "No module named 'models'",
     "output_type": "error",
     "traceback": [
      "\u001b[1;31m---------------------------------------------------------------------------\u001b[0m",
      "\u001b[1;31mModuleNotFoundError\u001b[0m                       Traceback (most recent call last)",
      "Input \u001b[1;32mIn [21]\u001b[0m, in \u001b[0;36m<cell line: 4>\u001b[1;34m()\u001b[0m\n\u001b[0;32m      2\u001b[0m \u001b[38;5;28;01mfrom\u001b[39;00m \u001b[38;5;21;01mdataclasses\u001b[39;00m \u001b[38;5;28;01mimport\u001b[39;00m dataclass\n\u001b[0;32m      3\u001b[0m \u001b[38;5;28;01mfrom\u001b[39;00m \u001b[38;5;21;01mtyping\u001b[39;00m \u001b[38;5;28;01mimport\u001b[39;00m Dict, List\n\u001b[1;32m----> 4\u001b[0m \u001b[38;5;28;01mfrom\u001b[39;00m \u001b[38;5;21;01mmodels\u001b[39;00m\u001b[38;5;21;01m.\u001b[39;00m\u001b[38;5;21;01mscenario\u001b[39;00m \u001b[38;5;28;01mimport\u001b[39;00m ScenarioInstance\n\u001b[0;32m      6\u001b[0m \u001b[38;5;129m@dataclass\u001b[39m\n\u001b[0;32m      7\u001b[0m \u001b[38;5;28;01mclass\u001b[39;00m \u001b[38;5;21;01mSimulationOutput\u001b[39;00m(\u001b[38;5;28mobject\u001b[39m):\n\u001b[0;32m      8\u001b[0m     egoTrajectory: List\n",
      "\u001b[1;31mModuleNotFoundError\u001b[0m: No module named 'models'"
     ]
    }
   ],
   "source": []
  },
  {
   "cell_type": "code",
   "execution_count": 15,
   "id": "58fb581c",
   "metadata": {},
   "outputs": [
    {
     "ename": "NameError",
     "evalue": "name 'SimulationOutput' is not defined",
     "output_type": "error",
     "traceback": [
      "\u001b[1;31m---------------------------------------------------------------------------\u001b[0m",
      "\u001b[1;31mNameError\u001b[0m                                 Traceback (most recent call last)",
      "Input \u001b[1;32mIn [15]\u001b[0m, in \u001b[0;36m<cell line: 6>\u001b[1;34m()\u001b[0m\n\u001b[0;32m      3\u001b[0m \u001b[38;5;28;01mimport\u001b[39;00m \u001b[38;5;21;01mnumpy\u001b[39;00m \n\u001b[0;32m      4\u001b[0m \u001b[38;5;28;01mimport\u001b[39;00m \u001b[38;5;21;01mnumpy\u001b[39;00m\u001b[38;5;21;01m.\u001b[39;00m\u001b[38;5;21;01mlinalg\u001b[39;00m \u001b[38;5;28;01mas\u001b[39;00m \u001b[38;5;21;01mnplg\u001b[39;00m\n\u001b[1;32m----> 6\u001b[0m \u001b[38;5;28;01mclass\u001b[39;00m \u001b[38;5;21;01mDummySimulator\u001b[39;00m(\u001b[38;5;28mobject\u001b[39m):\n\u001b[0;32m      7\u001b[0m     samplingTime \u001b[38;5;241m=\u001b[39m \u001b[38;5;241m1\u001b[39m\n\u001b[0;32m      8\u001b[0m     \u001b[38;5;129m@staticmethod\u001b[39m\n\u001b[0;32m      9\u001b[0m     \u001b[38;5;28;01mdef\u001b[39;00m \u001b[38;5;21msimulate\u001b[39m(\u001b[38;5;28mvars\u001b[39m, simTime: \u001b[38;5;28mfloat\u001b[39m, samplingTime\u001b[38;5;241m=\u001b[39msamplingTime) \u001b[38;5;241m-\u001b[39m\u001b[38;5;241m>\u001b[39m SimulationOutput:\n",
      "Input \u001b[1;32mIn [15]\u001b[0m, in \u001b[0;36mDummySimulator\u001b[1;34m()\u001b[0m\n\u001b[0;32m      6\u001b[0m \u001b[38;5;28;01mclass\u001b[39;00m \u001b[38;5;21;01mDummySimulator\u001b[39;00m(\u001b[38;5;28mobject\u001b[39m):\n\u001b[0;32m      7\u001b[0m     samplingTime \u001b[38;5;241m=\u001b[39m \u001b[38;5;241m1\u001b[39m\n\u001b[0;32m      8\u001b[0m     \u001b[38;5;129m@staticmethod\u001b[39m\n\u001b[1;32m----> 9\u001b[0m     \u001b[38;5;28;01mdef\u001b[39;00m \u001b[38;5;21msimulate\u001b[39m(\u001b[38;5;28mvars\u001b[39m, simTime: \u001b[38;5;28mfloat\u001b[39m, samplingTime\u001b[38;5;241m=\u001b[39msamplingTime) \u001b[38;5;241m-\u001b[39m\u001b[38;5;241m>\u001b[39m \u001b[43mSimulationOutput\u001b[49m:\n\u001b[0;32m     11\u001b[0m         egoInitialVelocity \u001b[38;5;241m=\u001b[39m \u001b[38;5;28mvars\u001b[39m[\u001b[38;5;241m3\u001b[39m]\n\u001b[0;32m     12\u001b[0m         pedInitialVelocity \u001b[38;5;241m=\u001b[39m \u001b[38;5;28mvars\u001b[39m[\u001b[38;5;241m7\u001b[39m]\n",
      "\u001b[1;31mNameError\u001b[0m: name 'SimulationOutput' is not defined"
     ]
    }
   ],
   "source": [
    "\n",
    "from ctypes import Array\n",
    "from dataclasses import dataclass\n",
    "from typing import Dict, List\n",
    "from models.scenario import ScenarioInstance\n",
    "\n",
    "@dataclass\n",
    "class SimulationOutput(object):\n",
    "    egoTrajectory: List\n",
    "    objectTrajectory: List\n",
    "    simTime: float\n",
    "    otherParams: Dict\n",
    "    pass\n",
    "\n",
    "from cmath import pi, sin\n",
    "from math import cos\n",
    "import numpy \n",
    "import numpy.linalg as nplg\n",
    "\n",
    "class DummySimulator(object):\n",
    "    samplingTime = 1\n",
    "    @staticmethod\n",
    "    def simulate(vars, simTime: float, samplingTime=samplingTime) -> SimulationOutput:\n",
    "\n",
    "        egoInitialVelocity = vars[3]\n",
    "        pedInitialVelocity = vars[7]\n",
    "\n",
    "        egoTrajectory = planMotion(vars[0:3],simTime,samplingTime)\n",
    "        objectTrajectory = planMotion(vars[4:7],simTime,samplingTime)\n",
    "\n",
    "        colpoint = intersect(egoTrajectory,objectTrajectory)\n",
    "                                     \n",
    "        dist_ego_colpoint = nplg.norm(colpoint - egoTrajectory[1:2,0])\n",
    "        dist_ped_colpoint = nplg.norm(colpoint - objectTrajectory[1:2,0])\n",
    "        \n",
    "        t_col_ego = dist_ego_colpoint/egoInitialVelocity\n",
    "        t_col_ped = dist_ped_colpoint/pedInitialVelocity\n",
    "        \n",
    "        # collision occurs when both objects reach line crossing at\n",
    "        # the same time (with some tolerance)\n",
    "        \n",
    "        t_tolerance = 5; #time tolerance for missed collision  \n",
    "\n",
    "        otherparams = {}\n",
    "        if  (colpoint!=[]) and (t_col_ego - t_col_ped) < t_tolerance:\n",
    "            otherparams['isCollision'] = True\n",
    "        else:\n",
    "            otherparams['isCollision'] = False\n",
    "        \n",
    "        return SimulationOutput(simTime,egoTrajectory=egoTrajectory,objectTrajectory=objectTrajectory, otherParams=None)"
   ]
  },
  {
   "cell_type": "code",
   "execution_count": null,
   "id": "8462e982",
   "metadata": {},
   "outputs": [],
   "source": [
    "import numpy as np\n",
    "def intersect(x,y):\n",
    "    return np.array([])"
   ]
  }
 ],
 "metadata": {
  "kernelspec": {
   "display_name": "Python 3 (ipykernel)",
   "language": "python",
   "name": "python3"
  },
  "language_info": {
   "codemirror_mode": {
    "name": "ipython",
    "version": 3
   },
   "file_extension": ".py",
   "mimetype": "text/x-python",
   "name": "python",
   "nbconvert_exporter": "python",
   "pygments_lexer": "ipython3",
   "version": "3.9.8"
  }
 },
 "nbformat": 4,
 "nbformat_minor": 5
}
