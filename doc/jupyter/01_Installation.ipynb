{
 "cells": [
  {
   "cell_type": "markdown",
   "metadata": {},
   "source": [
    "# Installation\n",
    "\n",
    "In this tutorial we show how install OpenSBT and execute a dummy AEB system in a simplified simulator.\n",
    "\n",
    "The installation has been tested with Ubuntu 22.04 and Python 3.7. It is recommend having installed git.\n",
    "\n",
    "With git you need first to open a terminal in the folder where you want to install OpenSBT and clone the repository via\n",
    "\n",
    "```git clone https://git.fortiss.org/opensbt/opensbt-core.git```\n",
    "\n",
    "Now you need to go to the OpenSBT folder via ```cd OpenSBT``` and install all dependencies of OpenSBT with the following command:\n",
    "\n",
    "```\n",
    "bash install.sh\n",
    "```\n",
    "\n",
    "The install script will create a virtual environment and install all python dependencies inside the virtual enivornment. \n",
    "Afterwards it will switch to the virtual environment.e\n",
    "\n",
    "We can now test the installation by running our first experiment: Testing a simplified Automated Emergency Braking system in avoiding a collision with a pedestrian. (Note: Only linear motion planning, no comprehensive vehicles dynamics or environmental simulation is used. This system is just for testing the installation of OpenSBT.)\n",
    "We need to run the first experiment which is already defined in OpenSBT for this."
   ]
  },
  {
   "cell_type": "code",
   "execution_count": 2,
   "metadata": {},
   "outputs": [
    {
     "name": "stdout",
     "output_type": "stream",
     "text": [
      "python: can't open file 'run.py': [Errno 2] No such file or directory\n"
     ]
    }
   ],
   "source": [
    "! python run.py -e 1"
   ]
  },
  {
   "cell_type": "markdown",
   "metadata": {},
   "source": [
    "\n",
    "When the experiment execution has been completed, following console output shall have been produced (n_nds and eps numbers might differ as search is randomized).\n",
    "\n",
    "```bash showLineNumbers\n",
    "2023-10-04 00:01:35,657 INFO     Logging setup. Writing to file:  ./log.txt\n",
    "2023-10-04 00:01:35,659 INFO     Selected experiment: 5\n",
    "2023-10-04 00:01:35,660 INFO     Pymoo NSGA-II algorithm is used.\n",
    "2023-10-04 00:01:35,665 INFO     Running evaluation number 1\n",
    "==========================================================\n",
    "n_gen  |  n_eval  | n_nds  |      eps      |   indicator  \n",
    "==========================================================\n",
    "     1 |       20 |      2 |             - |             -\n",
    "2023-10-04 00:01:35,747 INFO     Running evaluation number 2\n",
    "     2 |       40 |      2 |  6.7749230680 |         nadir\n",
    "2023-10-04 00:01:35,827 INFO     Running evaluation number 3\n",
    "     3 |       60 |      2 |  0.000000E+00 |             f\n",
    "2023-10-04 00:01:35,918 INFO     Running evaluation number 4\n",
    "     4 |       80 |      2 |  0.000000E+00 |             f\n",
    "2023-10-04 00:01:35,995 INFO     Running evaluation number 5\n",
    "     5 |      100 |      2 |  0.0063369374 |         ideal\n",
    "2023-10-04 00:01:36,114 INFO     Running evaluation number 6\n",
    "     6 |      120 |      3 |  0.1152399423 |             f\n",
    "2023-10-04 00:01:36,175 INFO     Running evaluation number 7\n",
    "     7 |      140 |      2 |  0.1381785040 |         ideal\n",
    "2023-10-04 00:01:36,239 INFO     Running evaluation number 8\n",
    "     8 |      160 |      4 |  0.0860965917 |             f\n",
    "2023-10-04 00:01:36,301 INFO     Running evaluation number 9\n",
    "     9 |      180 |      3 |  0.7258862023 |         ideal\n",
    "2023-10-04 00:01:36,373 INFO     Running evaluation number 10\n",
    "    10 |      200 |      4 |  0.1785650172 |         ideal\n",
    "2023-10-04 00:01:36,467 INFO     Running evaluation number 11\n",
    "    11 |      220 |      5 |  0.2091108772 |             f\n",
    "2023-10-04 00:01:36,559 INFO     Running evaluation number 12\n",
    "    12 |      240 |      4 |  0.0211540214 |         ideal\n",
    "2023-10-04 00:01:36,641 INFO     Running evaluation number 13\n",
    "    13 |      260 |      3 |  0.1154057918 |             f\n",
    "2023-10-04 00:01:36,704 INFO     Running evaluation number 14\n",
    "    14 |      280 |      4 |  0.4956124364 |         nadir\n",
    "2023-10-04 00:01:36,777 INFO     Running evaluation number 15\n",
    "    15 |      300 |      4 |  0.0225090584 |         ideal\n",
    "2023-10-04 00:01:36,844 INFO     Running evaluation number 16\n",
    "    16 |      320 |      5 |  0.2735872394 |         ideal\n",
    "2023-10-04 00:01:36,910 INFO     Running evaluation number 17\n",
    "    17 |      340 |      5 |  0.0577729987 |             f\n",
    "2023-10-04 00:01:36,980 INFO     Running evaluation number 18\n",
    "    18 |      360 |      3 |  0.8866473485 |         ideal\n",
    "2023-10-04 00:01:37,055 INFO     Running evaluation number 19\n",
    "    19 |      380 |      4 |  0.9434378203 |         ideal\n",
    "2023-10-04 00:01:37,121 INFO     Running evaluation number 20\n",
    "    20 |      400 |      2 |  0.5037086835 |         ideal\n",
    "2023-10-04 00:01:37,210 INFO     =====[NSGA2] Writing results to: \n",
    "2023-10-04 00:01:37,211 INFO     /home/sorokin/Projects/testing/search-based-test-case-generation/results/DummySimulatorProblem/NSGA2/04-10-2023_00-01-37/\n",
    "2023-10-04 00:01:47,503 INFO     ====== Algorithm search time: 1.55 sec"
   ]
  },
  {
   "cell_type": "markdown",
   "metadata": {},
   "source": [
    "We can now inspect the created result artefacts which are located in the results folder whose path is written in the bottom of the output."
   ]
  },
  {
   "cell_type": "markdown",
   "metadata": {},
   "source": [
    "((Optional go over the artifacts and explain shortly))\n",
    "((You can find the critical test input in the file here:\n",
    "The visualuzation of the scenarios is shown in the gif folder))"
   ]
  }
 ],
 "metadata": {
  "kernelspec": {
   "display_name": "venv",
   "language": "python",
   "name": "python3"
  },
  "language_info": {
   "codemirror_mode": {
    "name": "ipython",
    "version": 3
   },
   "file_extension": ".py",
   "mimetype": "text/x-python",
   "name": "python",
   "nbconvert_exporter": "python",
   "pygments_lexer": "ipython3",
   "version": "3.8.10 (default, May 26 2023, 14:05:08) \n[GCC 9.4.0]"
  },
  "orig_nbformat": 4,
  "vscode": {
   "interpreter": {
    "hash": "936ca7e20bca62b66c7c316e70494dc6b833065bb3866688df5c5758a2e02a05"
   }
  }
 },
 "nbformat": 4,
 "nbformat_minor": 2
}
