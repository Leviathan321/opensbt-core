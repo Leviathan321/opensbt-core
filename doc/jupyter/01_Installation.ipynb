{
 "cells": [
  {
   "cell_type": "markdown",
   "metadata": {},
   "source": [
    "# Installation\n",
    "\n",
    "In this tutorial we show how install OpenSBT and execute a dummy AEB system in a simplified simulator.\n",
    "\n",
    "The installation has been tested with Ubuntu 22.04 and Python 3.7. It is recommend having installed git.\n",
    "\n",
    "With git you need first to open a terminal in the folder where you want to install OpenSBT and clone the repository via\n",
    "\n",
    "```git clone https://git.fortiss.org/opensbt/opensbt-core.git```\n",
    "\n",
    "Now you need to go to the OpenSBT folder via ```cd OpenSBT``` and install all dependencies of OpenSBT with the following command:\n",
    "\n",
    "```\n",
    "bash install.sh\n",
    "```\n",
    "\n",
    "The install script will create a virtual environment and install all python dependencies inside the virtual enivornment. \n",
    "Afterwards it will switch to the virtual environment.e\n",
    "\n",
    "We can now test the installation by running our first experiment: Testing a simplified Automated Emergency Braking system in avoiding a collision with a pedestrian. (Note: Only linear motion planning, no comprehensive vehicles dynamics or environmental simulation is used. This system is just for testing the installation of OpenSBT.)\n",
    "We need to run the first experiment which is already defined in OpenSBT for this."
   ]
  },
  {
   "cell_type": "code",
   "execution_count": 2,
   "metadata": {},
   "outputs": [
    {
     "name": "stdout",
     "output_type": "stream",
     "text": [
      "python: can't open file 'run.py': [Errno 2] No such file or directory\n"
     ]
    }
   ],
   "source": [
    "! python run.py -e 1"
   ]
  },
  {
   "cell_type": "markdown",
   "metadata": {},
   "source": [
    "\n",
    "When the experiment execution has been completed, following console output shall be produced.\n",
    "\n",
    "```TODO"
   ]
  },
  {
   "cell_type": "markdown",
   "metadata": {},
   "source": []
  },
  {
   "cell_type": "markdown",
   "metadata": {},
   "source": [
    "You can find the critical test input in the file here:\n",
    "\n",
    "The visualuzation of the scenarios is shown in the gif folder. "
   ]
  },
  {
   "cell_type": "markdown",
   "metadata": {},
   "source": []
  },
  {
   "cell_type": "markdown",
   "metadata": {},
   "source": []
  }
 ],
 "metadata": {
  "kernelspec": {
   "display_name": "venv",
   "language": "python",
   "name": "python3"
  },
  "language_info": {
   "codemirror_mode": {
    "name": "ipython",
    "version": 3
   },
   "file_extension": ".py",
   "mimetype": "text/x-python",
   "name": "python",
   "nbconvert_exporter": "python",
   "pygments_lexer": "ipython3",
   "version": "3.8.10 (default, May 26 2023, 14:05:08) \n[GCC 9.4.0]"
  },
  "orig_nbformat": 4,
  "vscode": {
   "interpreter": {
    "hash": "936ca7e20bca62b66c7c316e70494dc6b833065bb3866688df5c5758a2e02a05"
   }
  }
 },
 "nbformat": 4,
 "nbformat_minor": 2
}
