{
 "cells": [
  {
   "cell_type": "markdown",
   "metadata": {},
   "source": [
    "# Experiment Configuration and Execution\n",
    "\n",
    "In this tutorial we show how to configure and execute an experiment in OpenSBT to test an Agent. We show the configuration of the experiment for testing a simplistic agent in a simplified simulator (no GPU required).\n",
    "\n",
    "_Note: This example is for introducing OpenSBT. An application with a high fidelity simulation and *real* SUT is provided [here](doc/jupyter/06_Example_CARLA.ipynb)._"
   ]
  },
  {
   "cell_type": "markdown",
   "metadata": {},
   "source": [
    "## Dummy Example\n",
    "\n",
    "We refer to this example as Dummy Example. The example contains an AEB agent and a pedestrian. Both actors move linear, while the pedestrian has a fixed trajectory and fixed velocity, the ego agent has a predefined path but can modify his velocity. That means, ego brakes when he detects other actors within a predefined distance. We want to test the AEB agent in violating the safety distance of 1m. For this we want to vary the initial velocities of both actors as well the orientation of the pedestrian crossing egos' lane.\n",
    "\n",
    "In particlar, the pedestrian has a speed in the range of [0.2, 3] m/s, the ego [1, 10] m/s, while the orientation range is [0,180] degrees."
   ]
  },
  {
   "cell_type": "markdown",
   "metadata": {},
   "source": [
    "## Defining An Experiment\n",
    "\n",
    "To define an experiment we need to instantiate `ADASProblem`. `ADASProblem` holds:\n",
    "\n",
    "- the **scenario**, which can be e.g., an OpenSCENARIO file, or file of another format supported by simulator,\n",
    "- the **search variables**, whose values are altered to produce (different) scenarios througout the search,\n",
    "- the **search space**, represented by the lower and upper bounds as arrays,\n",
    "- the **fitness function**, \n",
    "- the **criticality function**, which represents the safety requirements/testing oracle,\n",
    "- the **simulate function** to trigger the simulator via this function,\n",
    "- the **simulator-related variables**, i.e., simulation time, sampling time, toggle for visualization.\n",
    "\n",
    "_Note, that for now the SUT is triggered via the Simulater Interface, as we assume that the SUT is embedded into the simulator. We are working on an update where the SUT can be defined uncoupled from the simulator._"
   ]
  },
  {
   "cell_type": "code",
   "execution_count": 2,
   "metadata": {},
   "outputs": [
    {
     "name": "stdout",
     "output_type": "stream",
     "text": [
      "/home/sorokin/Projects/testing/search-based-test-case-generation/doc/jupyter/opensbt-core\n"
     ]
    }
   ],
   "source": [
    "cd opensbt-core"
   ]
  },
  {
   "cell_type": "code",
   "execution_count": 13,
   "metadata": {},
   "outputs": [],
   "source": [
    "from evaluation.fitness import FitnessMinDistanceVelocity\n",
    "from problem.adas_problem import ADASProblem\n",
    "from problem.pymoo_test_problem import PymooTestProblem\n",
    "from evaluation.critical import CriticalAdasDistanceVelocity\n",
    "from simulation.dummy_simulation import DummySimulator\n",
    "\n",
    "\n",
    "problem = ADASProblem(\n",
    "                      problem_name=\"DummySimulatorProblem\",\n",
    "                      scenario_path=\"scenarios/dummy_scenario.xosc\",\n",
    "                      xl=[0, 1, 0, 0],\n",
    "                      xu=[180, 10,180, 2],\n",
    "                      simulation_variables=[\n",
    "                          \"orientation_ego\",\n",
    "                          \"velocity_ego\",\n",
    "                          \"orientation_ped\",\n",
    "                          \"velocity_ped\"],\n",
    "                      fitness_function=FitnessMinDistanceVelocity(),\n",
    "                      critical_function=CriticalAdasDistanceVelocity(),\n",
    "                      simulate_function=DummySimulator.simulate,\n",
    "                      simulation_time=10,\n",
    "                      sampling_time=0.25\n",
    "                      )"
   ]
  },
  {
   "cell_type": "markdown",
   "metadata": {},
   "source": [
    "We have two options to execute the testing experiment: using the console or using the code directly. "
   ]
  },
  {
   "cell_type": "markdown",
   "metadata": {},
   "source": [
    "## Experiment Execution (Code)\n",
    "\n",
    "To start search without console, we instantiate the search algorithms `Optimizer` and call its `run` method to start the search. When the search has finished, we write the results by calling an output method (line 9). The results will be written in the default folder name `results`, if no folder name is passed."
   ]
  },
  {
   "cell_type": "code",
   "execution_count": 14,
   "metadata": {},
   "outputs": [
    {
     "name": "stdout",
     "output_type": "stream",
     "text": [
      "==========================================================\n",
      "n_gen  |  n_eval  | n_nds  |      eps      |   indicator  \n",
      "==========================================================\n",
      "     1 |       20 |      3 |             - |             -\n",
      "     2 |       40 |      7 |  0.0048833833 |         ideal\n",
      "     3 |       60 |      8 |  0.0297266850 |         ideal\n",
      "     4 |       80 |      7 |  0.1151720326 |         ideal\n",
      "     5 |      100 |     10 |  0.0455144670 |             f\n",
      "[None None None None None None None None None None]\n"
     ]
    },
    {
     "ename": "AttributeError",
     "evalue": "'NoneType' object has no attribute 'otherParams'",
     "output_type": "error",
     "traceback": [
      "\u001b[0;31m---------------------------------------------------------------------------\u001b[0m",
      "\u001b[0;31mAttributeError\u001b[0m                            Traceback (most recent call last)",
      "Cell \u001b[0;32mIn[14], line 27\u001b[0m\n\u001b[1;32m     25\u001b[0m \u001b[38;5;28mprint\u001b[39m(res\u001b[38;5;241m.\u001b[39mopt\u001b[38;5;241m.\u001b[39mget(\u001b[38;5;124m\"\u001b[39m\u001b[38;5;124mSO\u001b[39m\u001b[38;5;124m\"\u001b[39m))\n\u001b[1;32m     26\u001b[0m \u001b[38;5;66;03m# Write results\u001b[39;00m\n\u001b[0;32m---> 27\u001b[0m \u001b[43mres\u001b[49m\u001b[38;5;241;43m.\u001b[39;49m\u001b[43mwrite_results\u001b[49m\u001b[43m(\u001b[49m\u001b[43mparams\u001b[49m\u001b[43m \u001b[49m\u001b[38;5;241;43m=\u001b[39;49m\u001b[43m \u001b[49m\u001b[43moptimizer\u001b[49m\u001b[38;5;241;43m.\u001b[39;49m\u001b[43mparameters\u001b[49m\u001b[43m)\u001b[49m\n",
      "File \u001b[0;32m~/Projects/testing/search-based-test-case-generation/doc/jupyter/opensbt-core/model_ga/result.py:97\u001b[0m, in \u001b[0;36mSimulationResult.write_results\u001b[0;34m(self, results_folder, params)\u001b[0m\n\u001b[1;32m     95\u001b[0m visualizer\u001b[38;5;241m.\u001b[39mall_critical_individuals(\u001b[38;5;28mself\u001b[39m,save_folder)\n\u001b[1;32m     96\u001b[0m visualizer\u001b[38;5;241m.\u001b[39mwrite_summary_results(\u001b[38;5;28mself\u001b[39m, save_folder)\n\u001b[0;32m---> 97\u001b[0m \u001b[43mvisualizer\u001b[49m\u001b[38;5;241;43m.\u001b[39;49m\u001b[43mwrite_simulation_output\u001b[49m\u001b[43m(\u001b[49m\u001b[38;5;28;43mself\u001b[39;49m\u001b[43m,\u001b[49m\u001b[43msave_folder\u001b[49m\u001b[43m)\u001b[49m\n\u001b[1;32m     98\u001b[0m visualizer\u001b[38;5;241m.\u001b[39msimulations(\u001b[38;5;28mself\u001b[39m, save_folder)\n\u001b[1;32m    100\u001b[0m \u001b[38;5;28;01mif\u001b[39;00m WRITE_ALL_INDIVIDUALS:\n",
      "File \u001b[0;32m~/Projects/testing/search-based-test-case-generation/doc/jupyter/opensbt-core/visualization/visualizer.py:101\u001b[0m, in \u001b[0;36mwrite_simulation_output\u001b[0;34m(res, save_folder)\u001b[0m\n\u001b[1;32m     99\u001b[0m write_to \u001b[38;5;241m=\u001b[39m csv\u001b[38;5;241m.\u001b[39mwriter(f)\n\u001b[1;32m    100\u001b[0m header \u001b[38;5;241m=\u001b[39m [\u001b[38;5;124m'\u001b[39m\u001b[38;5;124mIndex\u001b[39m\u001b[38;5;124m'\u001b[39m]\n\u001b[0;32m--> 101\u001b[0m other_params \u001b[38;5;241m=\u001b[39m \u001b[43mall_population\u001b[49m\u001b[38;5;241;43m.\u001b[39;49m\u001b[43mget\u001b[49m\u001b[43m(\u001b[49m\u001b[38;5;124;43m\"\u001b[39;49m\u001b[38;5;124;43mSO\u001b[39;49m\u001b[38;5;124;43m\"\u001b[39;49m\u001b[43m)\u001b[49m\u001b[43m[\u001b[49m\u001b[38;5;241;43m0\u001b[39;49m\u001b[43m]\u001b[49m\u001b[38;5;241;43m.\u001b[39;49m\u001b[43motherParams\u001b[49m\n\u001b[1;32m    103\u001b[0m \u001b[38;5;66;03m# write header\u001b[39;00m\n\u001b[1;32m    104\u001b[0m \u001b[38;5;28;01mfor\u001b[39;00m item, value \u001b[38;5;129;01min\u001b[39;00m other_params\u001b[38;5;241m.\u001b[39mitems():\n",
      "\u001b[0;31mAttributeError\u001b[0m: 'NoneType' object has no attribute 'otherParams'"
     ]
    },
    {
     "data": {
      "image/png": "[encoded data removed]",
      "text/plain": [
       "<Figure size 640x480 with 1 Axes>"
      ]
     },
     "metadata": {},
     "output_type": "display_data"
    }
   ],
   "source": [
    "import pymoo\n",
    "\n",
    "from model_ga.individual import IndividualSimulated\n",
    "pymoo.core.individual.Individual = IndividualSimulated\n",
    "\n",
    "from model_ga.population import PopulationExtended\n",
    "pymoo.core.population.Population = PopulationExtended\n",
    "\n",
    "from model_ga.result  import SimulationResult\n",
    "pymoo.core.result.Result = SimulationResult\n",
    "\n",
    "from model_ga.problem import SimulationProblem\n",
    "pymoo.core.problem.Problem = SimulationProblem\n",
    "\n",
    "from algorithm.nsga2_optimizer import NsgaIIOptimizer\n",
    "\n",
    "# Instantiate search algorithm\n",
    "optimizer = NsgaIIOptimizer(\n",
    "                            problem=problem,\n",
    "                            config=DefaultSearchConfiguration()\n",
    "                            )\n",
    "# Run search\n",
    "res = optimizer.run()\n",
    "\n",
    "# Write results\n",
    "res.write_results(params = optimizer.parameters)"
   ]
  },
  {
   "cell_type": "markdown",
   "metadata": {},
   "source": [
    "## Experiment Execution (Console)\n",
    "\n",
    "To start the search through the console we need to create an `Experiment` instance. The experiment instance receives following inputs:\n",
    "\n",
    "- the experiment name (type `str`)\n",
    "- the created problem (type `ADASProblem`) \n",
    "- the search algorithm (type `AlgorithmType`)\n",
    "- the search configuration (type `SearchConfiguration`)\n",
    "\n",
    "Note, that the algorithm that is passed is an enumeration value which need to be registed beforehand via the `algorithm.py` script."
   ]
  },
  {
   "cell_type": "code",
   "execution_count": 5,
   "metadata": {},
   "outputs": [],
   "source": [
    "experiment = Experiment(name=\"6\",\n",
    "                        problem=problem,\n",
    "                        algorithm=AlgorithmType.NSGAII,\n",
    "                        search_configuration=DefaultSearchConfiguration())"
   ]
  },
  {
   "cell_type": "markdown",
   "metadata": {},
   "source": [
    "Then we register the experiment so that we can use it later via console."
   ]
  },
  {
   "cell_type": "code",
   "execution_count": 10,
   "metadata": {},
   "outputs": [
    {
     "data": {
      "text/plain": [
       "1"
      ]
     },
     "execution_count": 10,
     "metadata": {},
     "output_type": "execute_result"
    }
   ],
   "source": [
    "from experiment.experiment_store import experiments_store\n",
    "experiments_store.register(experiment)"
   ]
  },
  {
   "cell_type": "markdown",
   "metadata": {},
   "source": [
    "To start search via console we run the experiment with the name \"6\":"
   ]
  },
  {
   "cell_type": "code",
   "execution_count": 11,
   "metadata": {},
   "outputs": [
    {
     "name": "stdout",
     "output_type": "stream",
     "text": [
      "2023-10-18 03:26:31,002 INFO     Logging setup. Writing to file:  ./log.txt\r\n",
      "2023-10-18 03:26:31,003 INFO     Selected experiment: 6\r\n",
      "2023-10-18 03:26:31,003 INFO     Experiment with the given name does not exist.\r\n",
      "Traceback (most recent call last):\r\n",
      "  File \"run.py\", line 101, in <module>\r\n",
      "    config = experiment.search_configuration\r\n",
      "AttributeError: 'int' object has no attribute 'search_configuration'\r\n"
     ]
    }
   ],
   "source": [
    "!python run.py -e 6"
   ]
  },
  {
   "cell_type": "markdown",
   "metadata": {},
   "source": [
    "We can change the experiment parameters, such e.g., lower and upper bounds of the search parameters, the search time, iteration size or population size by using flags:"
   ]
  },
  {
   "cell_type": "code",
   "execution_count": 22,
   "metadata": {},
   "outputs": [
    {
     "name": "stdout",
     "output_type": "stream",
     "text": [
      "2023-10-15 23:42:03,969 INFO     Logging setup. Writing to file:  ./log.txt\r\n",
      "2023-10-15 23:42:03,970 INFO     Selected experiment: 6\r\n",
      "2023-10-15 23:42:03,970 INFO     Experiment with the given name does not exist.\r\n",
      "Traceback (most recent call last):\r\n",
      "  File \"run.py\", line 101, in <module>\r\n",
      "    config = experiment.search_configuration\r\n",
      "AttributeError: 'int' object has no attribute 'search_configuration'\r\n"
     ]
    }
   ],
   "source": [
    "!python run.py -e 6 -min 3 3 -max 4 4 -m  \"velocity_ego\" \"velocity_ego\" -i 50"
   ]
  },
  {
   "cell_type": "markdown",
   "metadata": {},
   "source": [
    "## Flags\n",
    "\n",
    "The complete list of flags is provided below."
   ]
  },
  {
   "cell_type": "markdown",
   "metadata": {},
   "source": [
    "```\n",
    " -h, --help            show this help message and exit\n",
    "  -e EXP_NUMBER         Name of existing experiment to be used. (show all experiments via -info)].\n",
    "  -i N_GENERATIONS      Number generations to perform.\n",
    "  -n SIZE_POPULATION    The size of the initial population of scenario candidates.\n",
    "  -a ALGORITHM          The algorithm to use for search. (Currently only 1: NSGAII supported.)\n",
    "  -t MAXIMAL_EXECUTION_TIME\n",
    "                        The time to use for search.\n",
    "  -f SCENARIO_PATH      The path to the scenario description file.\n",
    "  -min VAR_MIN [VAR_MIN ...]\n",
    "                        The lower bound of each search parameter.\n",
    "  -max VAR_MAX [VAR_MAX ...]\n",
    "                        The upper bound of each search parameter.\n",
    "  -m DESIGN_NAMES [DESIGN_NAMES ...]\n",
    "                        The names of the variables to modify.\n",
    "  -o RESULTS_FOLDER     The name of the folder where the results of the search are stored (default: /results/single/)\n",
    "  -v                    Whether to use the simuator's visualization. This feature is useful for debugging and demonstrations, however it reduces the search performance.\n",
    "  -info                 Names of all defined experiments.\n",
    "```\n"
   ]
  }
 ],
 "metadata": {
  "kernelspec": {
   "display_name": "venv",
   "language": "python",
   "name": "venv"
  },
  "language_info": {
   "codemirror_mode": {
    "name": "ipython",
    "version": 3
   },
   "file_extension": ".py",
   "mimetype": "text/x-python",
   "name": "python",
   "nbconvert_exporter": "python",
   "pygments_lexer": "ipython3",
   "version": "3.8.10"
  },
  "vscode": {
   "interpreter": {
    "hash": "936ca7e20bca62b66c7c316e70494dc6b833065bb3866688df5c5758a2e02a05"
   }
  }
 },
 "nbformat": 4,
 "nbformat_minor": 2
}
