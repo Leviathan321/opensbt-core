{
 "cells": [
  {
   "cell_type": "markdown",
   "metadata": {},
   "source": [
    "# Testing Example with CARLA (TODO: make code executable)\n",
    "\n",
    "In this tutorial we show how to run OpenSBT to test an AEB Agent in the CARLA Simulator.((TODO: add steps to integrate CarlaRunner and start experiment; Move modifying SBT components in 03_Defining_Experiment.ipynb))\n"
   ]
  },
  {
   "cell_type": "code",
   "execution_count": null,
   "metadata": {},
   "outputs": [],
   "source": [
    "We create a new folder to have a better overview over the installed files."
   ]
  },
  {
   "cell_type": "code",
   "execution_count": 8,
   "metadata": {},
   "outputs": [],
   "source": [
    "!mkdir carla-example\n",
    "!cd carla-example/"
   ]
  },
  {
   "cell_type": "markdown",
   "metadata": {},
   "source": [
    "((Install CARLA Runner wheel))\n",
    "\n",
    "To run a CARLA Simulation we need to install the following modules:\n",
    "- The CARLA Runner\n",
    "- CARLA Scenario Runner (necessary)\n",
    "- Rosco (This module is only deployed if the \"real ADS\" model is tested; otherwise it is idle)\n",
    "- CARLA\n",
    "You need for all modules X GB physical memory. The CARLA Runner library is installed as a dependency, while the other modules are just need to be downloaded and their path declared (see. README CARLA Runner). We show how to install the CARLA Runner, the other modules need to be installed via the README in CARLA Runner. \n",
    "\n",
    "First we download the CARLA Runner:"
   ]
  },
  {
   "cell_type": "code",
   "execution_count": 10,
   "metadata": {},
   "outputs": [
    {
     "name": "stdout",
     "output_type": "stream",
     "text": [
      "fatal: destination path 'carla-runner' already exists and is not an empty directory.\r\n"
     ]
    }
   ],
   "source": [
    "!git clone https://git.fortiss.org/opensbt/carla-runner.git"
   ]
  },
  {
   "cell_type": "markdown",
   "metadata": {},
   "source": [
    "And build then the wheel:"
   ]
  },
  {
   "cell_type": "code",
   "execution_count": 2,
   "metadata": {},
   "outputs": [
    {
     "name": "stdout",
     "output_type": "stream",
     "text": [
      "Requirement already satisfied: build in ./venv/lib/python3.8/site-packages (1.0.3)\n",
      "Requirement already satisfied: packaging>=19.0 in ./venv/lib/python3.8/site-packages (from build) (23.2)\n",
      "Requirement already satisfied: pyproject_hooks in ./venv/lib/python3.8/site-packages (from build) (1.0.0)\n",
      "Requirement already satisfied: importlib-metadata>=4.6 in ./venv/lib/python3.8/site-packages (from build) (6.8.0)\n",
      "Requirement already satisfied: tomli>=1.1.0 in ./venv/lib/python3.8/site-packages (from build) (2.0.1)\n",
      "Requirement already satisfied: zipp>=0.5 in ./venv/lib/python3.8/site-packages (from importlib-metadata>=4.6->build) (3.17.0)\n",
      "\u001b[1m* Creating venv isolated environment...\u001b[0m\n",
      "\u001b[91mERROR\u001b[0m Source /home/sorokin/Projects/testing/search-based-test-case-generation/doc/jupyter does not appear to be a Python project: no pyproject.toml or setup.py\n"
     ]
    }
   ],
   "source": [
    "!cd carla-runner\n",
    "!python -m pip install build\n",
    "!python -m build"
   ]
  },
  {
   "cell_type": "markdown",
   "metadata": {},
   "source": [
    "We can then import the wheel in OpenSBT:"
   ]
  },
  {
   "cell_type": "markdown",
   "metadata": {},
   "source": [
    "cd ../../opensbt-core\n",
    "pip install //path-to-wheel//"
   ]
  },
  {
   "cell_type": "markdown",
   "metadata": {},
   "source": [
    "We can test whether the installation of the CARLA Runner was successfull:"
   ]
  },
  {
   "cell_type": "code",
   "execution_count": null,
   "metadata": {},
   "outputs": [],
   "source": [
    "((Tiziano))"
   ]
  },
  {
   "cell_type": "markdown",
   "metadata": {},
   "source": [
    "When all other modules are installed, we can create a CARLA experiment."
   ]
  },
  {
   "cell_type": "markdown",
   "metadata": {},
   "source": [
    "((Run Experiment))"
   ]
  },
  {
   "cell_type": "markdown",
   "metadata": {},
   "source": [
    "((Create a modified Experiment))"
   ]
  },
  {
   "cell_type": "code",
   "execution_count": null,
   "metadata": {},
   "outputs": [],
   "source": [
    "def getExp1() -> Experiment:\n",
    "    problem = ADASProblem(\n",
    "                          problem_name=\"PedestrianCrossingStartWalk\",\n",
    "                          scenario_path=os.getcwd() + \"/scenarios/PedestrianCrossing.xosc\",\n",
    "                          xl=[0.5, 1, 0],\n",
    "                          xu=[3, 22, 60],\n",
    "                          simulation_variables=[\n",
    "                              \"PedSpeed\",\n",
    "                              \"EgoSpeed\",\n",
    "                              \"PedDist\"],\n",
    "                          fitness_function=FitnessMinDistanceVelocity(),  \n",
    "                          critical_function=CriticalAdasDistanceVelocity(),\n",
    "                          simulate_function=CarlaSimulator.simulate,\n",
    "                          simulation_time=10,\n",
    "                          sampling_time=100,\n",
    "                          approx_eval_time=10,\n",
    "                          do_visualize = False\n",
    "                          )\n",
    "    experiment = Experiment(name=\"1\",\n",
    "                            problem=problem,\n",
    "                            algorithm=AlgorithmType.NSGAII,\n",
    "                            search_configuration=DefaultSearchConfiguration())\n",
    "    return experiment"
   ]
  },
  {
   "cell_type": "code",
   "execution_count": null,
   "metadata": {},
   "outputs": [],
   "source": [
    "Now we can start the experiment with a search algorithm:"
   ]
  },
  {
   "cell_type": "code",
   "execution_count": null,
   "metadata": {},
   "outputs": [],
   "source": [
    "from algorithm.nsga2_optimizer import NsgaIIOptimizer\n",
    "\n",
    "optimizer = NsgaIIOptimizer(\n",
    "                            problem=problem,\n",
    "                            config=DefaultSearchConfiguration()\n",
    "                            )\n",
    "# Run search\n",
    "res = optimizer.run()"
   ]
  },
  {
   "cell_type": "code",
   "execution_count": null,
   "metadata": {},
   "outputs": [],
   "source": []
  }
 ],
 "metadata": {
  "kernelspec": {
   "display_name": "venv",
   "language": "python",
   "name": "venv"
  },
  "language_info": {
   "codemirror_mode": {
    "name": "ipython",
    "version": 3
   },
   "file_extension": ".py",
   "mimetype": "text/x-python",
   "name": "python",
   "nbconvert_exporter": "python",
   "pygments_lexer": "ipython3",
   "version": "3.8.10"
  },
  "vscode": {
   "interpreter": {
    "hash": "936ca7e20bca62b66c7c316e70494dc6b833065bb3866688df5c5758a2e02a05"
   }
  }
 },
 "nbformat": 4,
 "nbformat_minor": 2
}
