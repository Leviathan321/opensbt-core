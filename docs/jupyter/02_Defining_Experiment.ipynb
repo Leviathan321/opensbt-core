{
 "cells": [
  {
   "cell_type": "markdown",
   "metadata": {},
   "source": [
    "# Experiment Configuration and Execution\n",
    "\n",
    "In this tutorial we show how to configure and execute an experiment in OpenSBT to test an agent. We show the configuration of the experiment for testing a simplistic agent in a simplified simulator (no GPU required).\n",
    "\n",
    "_Note: This example is meant for introducing OpenSBT. An application with a high fidelity simulation and a *real-world* SUT is provided [here](https://git.fortiss.org/opensbt/opensbt-core/-/blob/main/doc/jupyter/06_Example_CARLA.ipynb)._"
   ]
  },
  {
   "cell_type": "markdown",
   "metadata": {},
   "source": [
    "## Toy Example\n",
    "\n",
    "We refer to this example as Toy Example. The example contains an AEB agent and a pedestrian. Both actors move linear, while the pedestrian has a fixed trajectory and fixed velocity, the ego agent has a predefined path but can modify his velocity. That means, ego brakes when he detects other actors within a predefined distance. We want to test the AEB agent in violating the safety distance of 1m. For this we want to vary the initial velocities of both actors as well the orientation of the pedestrian crossing egos' lane.\n",
    "\n",
    "In particlar, the pedestrian has a speed in the range of [0.2, 3] m/s, the ego [1, 10] m/s, while the orientation range is [0,180] degrees."
   ]
  },
  {
   "cell_type": "markdown",
   "metadata": {},
   "source": [
    "## Defining An Experiment\n",
    "\n",
    "To define an experiment we need to instantiate [`ADASProblem`](https://git.fortiss.org/opensbt/opensbt-core/-/blob/main/problem/adas_problem.py). `ADASProblem` holds:\n",
    "\n",
    "- the **scenario**, which can be e.g., an OpenSCENARIO file, or file of another format supported by simulator,\n",
    "- the **search variables**, whose values are altered to produce (different) scenarios througout the search,\n",
    "- the **search space**, represented by the lower and upper bounds as arrays,\n",
    "- the **fitness function**, which evaluates how 'fit' a test case is,\n",
    "- the **criticality function**, which represents the safety requirements/testing oracle,\n",
    "- the **simulate function** to trigger the simulator via this function,\n",
    "- the **simulator-related variables**, i.e., simulation time, sampling time, toggle for visualization.\n",
    "\n",
    "_Note, that for now the SUT is triggered via the Simulater Interface, as we assume that the SUT is embedded into the simulator. We are working on an update where the SUT can be defined uncoupled from the simulator._"
   ]
  },
  {
   "cell_type": "code",
   "execution_count": null,
   "metadata": {},
   "outputs": [],
   "source": [
    "cd opensbt-core"
   ]
  },
  {
   "cell_type": "code",
   "execution_count": null,
   "metadata": {},
   "outputs": [],
   "source": [
    "import pymoo\n",
    "\n",
    "from model_ga.individual import IndividualSimulated\n",
    "pymoo.core.individual.Individual = IndividualSimulated\n",
    "\n",
    "from model_ga.population import PopulationExtended\n",
    "pymoo.core.population.Population = PopulationExtended\n",
    "\n",
    "from model_ga.result  import SimulationResult\n",
    "pymoo.core.result.Result = SimulationResult\n",
    "\n",
    "from model_ga.problem import SimulationProblem\n",
    "pymoo.core.problem.Problem = SimulationProblem\n",
    "\n",
    "from algorithm.nsga2_optimizer import NsgaIIOptimizer\n",
    "from experiment.search_configuration import DefaultSearchConfiguration\n",
    "\n",
    "import os\n",
    "from evaluation.fitness import *\n",
    "from problem.adas_problem import ADASProblem\n",
    "from problem.pymoo_test_problem import PymooTestProblem\n",
    "from experiment.experiment_store import *\n",
    "from algorithm.algorithm import *\n",
    "from evaluation.critical import *\n",
    "from simulation.dummy_simulation import DummySimulator\n",
    "\n",
    "\n",
    "problem = ADASProblem(\n",
    "                      problem_name=\"DummySimulatorProblem\",\n",
    "                      scenario_path=\"scenarios/dummy_scenario.xosc\",\n",
    "                      xl=[0, 1, 0, 0.2],\n",
    "                      xu=[180, 10,180, 3],\n",
    "                      simulation_variables=[\n",
    "                          \"orientation_ego\",\n",
    "                          \"velocity_ego\",\n",
    "                          \"orientation_ped\",\n",
    "                          \"velocity_ped\"],\n",
    "                      fitness_function=FitnessMinDistanceVelocity(),\n",
    "                      critical_function=CriticalAdasDistanceVelocity(),\n",
    "                      simulate_function=DummySimulator.simulate,\n",
    "                      simulation_time=10,\n",
    "                      sampling_time=0.25\n",
    "                      )"
   ]
  },
  {
   "cell_type": "markdown",
   "metadata": {},
   "source": [
    "We have two options to execute the testing experiment: using the console or using the code directly. "
   ]
  },
  {
   "cell_type": "markdown",
   "metadata": {},
   "source": [
    "## Experiment Execution (Code)\n",
    "\n",
    "To start search without console, we instantiate the search algorithms `Optimizer` and call its `run` method to start the search. When the search has finished, we write the results by calling an output method (line 9). The results will be written in the default folder name `results`, if no folder name is passed."
   ]
  },
  {
   "cell_type": "code",
   "execution_count": null,
   "metadata": {},
   "outputs": [],
   "source": [
    "import pymoo\n",
    "\n",
    "from model_ga.individual import IndividualSimulated\n",
    "pymoo.core.individual.Individual = IndividualSimulated\n",
    "\n",
    "from model_ga.population import PopulationExtended\n",
    "pymoo.core.population.Population = PopulationExtended\n",
    "\n",
    "from model_ga.result  import SimulationResult\n",
    "pymoo.core.result.Result = SimulationResult\n",
    "\n",
    "from model_ga.problem import SimulationProblem\n",
    "pymoo.core.problem.Problem = SimulationProblem\n",
    "\n",
    "from algorithm.nsga2_optimizer import NsgaIIOptimizer\n",
    "\n",
    "from utils import log_utils\n",
    "\n",
    "log_utils.setup_logging(\"./log.txt\")\n",
    "\n",
    "# Set search configuration\n",
    "config = DefaultSearchConfiguration()\n",
    "config.n_generations = 50\n",
    "config.population_size = 20\n",
    "\n",
    "# Instantiate search algorithm\n",
    "optimizer = NsgaIIOptimizer(\n",
    "                            problem=problem,\n",
    "                            config= config)\n",
    "\n",
    "# Run search\n",
    "res = optimizer.run()\n",
    "\n",
    "# Write results\n",
    "res.write_results(params = optimizer.parameters)"
   ]
  },
  {
   "cell_type": "markdown",
   "metadata": {},
   "source": [
    "We can then for instance inspect the visualization of test cases that has been found during search. Note, that visualizations of the \"fitness\"-optimal scenarios are stored in the \"gif\" folder."
   ]
  },
  {
   "cell_type": "code",
   "execution_count": null,
   "metadata": {},
   "outputs": [],
   "source": [
    "import pandas as pd\n",
    "from pathlib import Path\n",
    "import os\n",
    "\n",
    "exp_folder = os.getcwd() + f\"/results/DummySimulatorProblem/NSGA2/\"\n",
    "paths = sorted(Path(exp_folder).iterdir(), key=os.path.getmtime)\n",
    "results_path = str(paths[-1])\n",
    "\n",
    "from IPython.display import Image\n",
    "import os\n",
    "\n",
    "n = 4 # show max n images\n",
    "folder_gifs = results_path + os.sep + \"gif\"\n",
    "i = 0\n",
    "for f in os.listdir(folder_gifs):\n",
    "    fpath = folder_gifs + os.sep + f\n",
    "    if os.path.isfile(fpath) and i < n:\n",
    "      img = Image(open(fpath,'rb').read(), width=300, height=300)\n",
    "      display(img)\n",
    "      i = i+1"
   ]
  },
  {
   "cell_type": "markdown",
   "metadata": {},
   "source": [
    "## Experiment Execution (Console)\n",
    "\n",
    "To start the search through the console we need to create an `Experiment` instance. The experiment instance receives the following inputs:\n",
    "\n",
    "- the experiment name (type `str`)\n",
    "- the created problem (type `ADASProblem`) \n",
    "- the search algorithm (type `AlgorithmType`)\n",
    "- the search configuration (type `SearchConfiguration`)\n",
    "\n",
    "Note, that the algorithm that is passed is an enumeration value which need to be registed beforehand via the `algorithm.py` script."
   ]
  },
  {
   "cell_type": "markdown",
   "metadata": {},
   "source": [
    "```python\n",
    "from experiment.experiment import Experiment\n",
    "from algorithm.algorithm import AlgorithmType\n",
    "from experiment.search_configuration import DefaultSearchConfiguration\n",
    "\n",
    "experiment = Experiment(name=\"5\",\n",
    "                        problem=problem,\n",
    "                        algorithm=AlgorithmType.NSGAII,\n",
    "                        search_configuration=DefaultSearchConfiguration())\n",
    "```"
   ]
  },
  {
   "cell_type": "markdown",
   "metadata": {},
   "source": [
    "Then we register the experiment so that we can use it later via console."
   ]
  },
  {
   "cell_type": "markdown",
   "metadata": {},
   "source": [
    "```python\n",
    "from experiment.experiment_store import experiments_store\n",
    "experiments_store.register(experiment)\n",
    "```"
   ]
  },
  {
   "cell_type": "markdown",
   "metadata": {},
   "source": [
    "To start search via console we run the experiment with the name \"5\":"
   ]
  },
  {
   "cell_type": "markdown",
   "metadata": {},
   "source": [
    "We can change the experiment parameters, such e.g., lower and upper bounds of the search parameters, the search time, iteration size or population size by using flags. In the following execution, we restrict the search by selecting a maximal angle of 90 degrees and use only 10 iterations for the genetic operations."
   ]
  },
  {
   "cell_type": "code",
   "execution_count": null,
   "metadata": {},
   "outputs": [],
   "source": [
    "!python -m opensbt.run -e 5 -min 0 1 90 0.2 -max 90 10 90 3 \\\n",
    "-m  \"orientation_ped\" \"velocity_ped\" \"orientation_ped\" \"velocity_ped\" -i 10"
   ]
  },
  {
   "cell_type": "markdown",
   "metadata": {},
   "source": [
    "We can then inspect some of the optimal test inputs that have been found:"
   ]
  },
  {
   "cell_type": "code",
   "execution_count": null,
   "metadata": {},
   "outputs": [],
   "source": [
    "import pandas as pd\n",
    "from pathlib import Path\n",
    "import os\n",
    "\n",
    "exp_folder = os.getcwd() + f\"/results/DummySimulatorProblem/NSGA2/\"\n",
    "paths = sorted(Path(exp_folder).iterdir(), key=os.path.getmtime)\n",
    "results_path = str(paths[-1])\n",
    "\n",
    "from IPython.display import Image\n",
    "import os\n",
    "\n",
    "n = 4 # show max n images\n",
    "folder_gifs = results_path + os.sep + \"gif\"\n",
    "i = 0\n",
    "for f in os.listdir(folder_gifs):\n",
    "    fpath = folder_gifs + os.sep + f\n",
    "    if os.path.isfile(fpath) and i < n:\n",
    "      img = Image(open(fpath,'rb').read(), width=300, height=300)\n",
    "      display(img)\n",
    "      i = i+1"
   ]
  },
  {
   "cell_type": "markdown",
   "metadata": {},
   "source": [
    "## Flags\n",
    "\n",
    "The complete list of flags is provided below."
   ]
  },
  {
   "cell_type": "markdown",
   "metadata": {},
   "source": [
    "```\n",
    " -h, --help            show this help message and exit\n",
    "  -e EXP_NUMBER         Name of existing experiment to be used. (show all experiments via -info)].\n",
    "  -i N_GENERATIONS      Number of generations to perform.\n",
    "  -n SIZE_POPULATION    The size of the initial population of scenario candidates.\n",
    "  -a ALGORITHM          The algorithm to use for search (Number registered via AlgorithmType)\n",
    "  -t MAXIMAL_EXECUTION_TIME\n",
    "                        The time to use for search.\n",
    "  -f SCENARIO_PATH      The path to the scenario description file.\n",
    "  -min VAR_MIN [VAR_MIN ...]\n",
    "                        The lower bound of each search parameter.\n",
    "  -max VAR_MAX [VAR_MAX ...]\n",
    "                        The upper bound of each search parameter.\n",
    "  -m DESIGN_NAMES [DESIGN_NAMES ...]\n",
    "                        The names of the variables to modify.\n",
    "  -o RESULTS_FOLDER     The name of the folder where the results of the search are stored (default: /results/single/)\n",
    "  -v                    Whether to use the simuator's visualization. This feature is useful for debugging and demonstrations, however it reduces the search performance.\n",
    "  -info                 Names of all defined experiments.\n",
    "```\n"
   ]
  }
 ],
 "metadata": {
  "kernelspec": {
   "display_name": "venv",
   "language": "python",
   "name": "venv"
  },
  "language_info": {
   "codemirror_mode": {
    "name": "ipython",
    "version": 3
   },
   "file_extension": ".py",
   "mimetype": "text/x-python",
   "name": "python",
   "nbconvert_exporter": "python",
   "pygments_lexer": "ipython3",
   "version": "3.8.5"
  },
  "vscode": {
   "interpreter": {
    "hash": "936ca7e20bca62b66c7c316e70494dc6b833065bb3866688df5c5758a2e02a05"
   }
  }
 },
 "nbformat": 4,
 "nbformat_minor": 4
}
