{
 "cells": [
  {
   "cell_type": "markdown",
   "metadata": {},
   "source": [
    "# Defining the fitness and criticality function\n",
    "\n",
    "\n",
    "To define a new fitness function we need to implement the `Fitness` class (interface). \n",
    "The fitness class provides the `eval` function which needs to be implemented with concrete evaluation instructions. The `eval`function receives as input an instance of  [`SimulationOutput`](https://git.fortiss.org/opensbt/opensbt-core/-/blob/main/simulation/simulator.py#L40-62) and can return a scalar (one objective) or a vector valued output (several objectives). Further it contains the `min_max` function which has to return a tuple of `min` or `max` strings indicating whether the corresponding objective function is minimized or maximized.\n",
    "\n",
    "In our example below we specify the fitness function with the objectives (taken from the CARLA example in [](/doc/jupyter/02_Example_CARLA.ipynb)): 1) minimize the distance to the adversary actors, 2) maximize the velocity of ego at the time of the minimal distance.\n",
    "\n",
    "\n",
    "```python\n",
    "class FitnessMinDistanceVelocity(Fitness):\n",
    "    @property\n",
    "    def min_or_max(self):\n",
    "        return \"min\", \"max\"\n",
    "\n",
    "    @property\n",
    "    def name(self):\n",
    "        return \"Min distance\", \"Velocity at min distance\"\n",
    "\n",
    "    def eval(self, simout: SimulationOutput) -> Tuple[float]:\n",
    "        traceEgo = simout.location[\"ego\"]                     # The actor names have to match the names written into the simulationoutput instance by the simulation adapter\n",
    "        tracePed = simout.location[\"adversary\"]              \n",
    "\n",
    "        ind_min_dist = np.argmin(geometric.distPair(traceEgo, tracePed))\n",
    "\n",
    "        # distance between ego and other object\n",
    "        distance = np.min(geometric.distPair(traceEgo, tracePed))\n",
    "\n",
    "        # speed of ego at time of the minimal distance\n",
    "        speed = simout.speed[\"ego\"][ind_min_dist]\n",
    "\n",
    "        return (distance, speed)\n",
    "\n",
    "```"
   ]
  },
  {
   "cell_type": "markdown",
   "metadata": {},
   "source": [
    "\n",
    "When testing a system, in general, some understanding exists for which fitness values a test input is considered as failure-revealing or not. In the context of ADS testing this notion is defined by the safety requirement, telling that the ego vehicle shall maintain a safety distance of .5m.\n",
    "\n",
    "In OpenSBT, such safety requirements can be represented by implementing the interface class [Critical](evaluation/critical.py). `Critical` offers the method `eval`, where specific constraints can be implemented. It received as input the fitness vector in form of an array, and the simulation output for the corresponding test input.\n",
    "\n",
    "In the example below the Critical Function indicates that when the distance is below .5m and ego is moving with positive velocity then the test input is critical. Consider that the sign in the inequations is inverted for the second constraint, as the velocity is to be maximized.\n",
    "\n",
    "\n",
    "```python\n",
    "class CriticalExample(Critical):\n",
    "    def eval(self, vector_fitness, simout: SimulationOutput = None):\n",
    "        if (vector_fitness[0] < 0.5) and (vector_fitness[1] < 0):\n",
    "            return True\n",
    "        else:\n",
    "            return False\n",
    "```"
   ]
  }
 ],
 "metadata": {
  "kernelspec": {
   "display_name": "venv",
   "language": "python",
   "name": "python3"
  },
  "language_info": {
   "name": "python",
   "version": "3.8.10 (default, May 26 2023, 14:05:08) \n[GCC 9.4.0]"
  },
  "orig_nbformat": 4,
  "vscode": {
   "interpreter": {
    "hash": "936ca7e20bca62b66c7c316e70494dc6b833065bb3866688df5c5758a2e02a05"
   }
  }
 },
 "nbformat": 4,
 "nbformat_minor": 2
}
