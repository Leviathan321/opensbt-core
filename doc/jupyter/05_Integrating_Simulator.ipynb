{
 "cells": [
  {
   "cell_type": "markdown",
   "metadata": {},
   "source": [
    "# Simulator Integration\n",
    "\n",
    "This tutorial shows how to integrate a simulator into OpenSBT, in particular how to write an adapter for a simulation. As an example we use the implemented adapter CarlaRunner for the CARLA Simulator.\n",
    "\n",
    "((Show the strucutre of simout))\n",
    "\n",
    "((Sim adapter shall convert output in simout))\n",
    "\n",
    "((Inteface sim adapter OpenSBT))\n",
    "\n",
    "((Extension of simout))"
   ]
  },
  {
   "cell_type": "markdown",
   "metadata": {},
   "source": []
  },
  {
   "cell_type": "markdown",
   "metadata": {},
   "source": []
  }
 ],
 "metadata": {
  "kernelspec": {
   "display_name": "venv",
   "language": "python",
   "name": "python3"
  },
  "language_info": {
   "name": "python",
   "version": "3.8.10 (default, May 26 2023, 14:05:08) \n[GCC 9.4.0]"
  },
  "orig_nbformat": 4,
  "vscode": {
   "interpreter": {
    "hash": "936ca7e20bca62b66c7c316e70494dc6b833065bb3866688df5c5758a2e02a05"
   }
  }
 },
 "nbformat": 4,
 "nbformat_minor": 2
}
