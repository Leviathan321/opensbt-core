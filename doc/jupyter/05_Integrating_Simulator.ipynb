{
 "cells": [
  {
   "cell_type": "markdown",
   "metadata": {},
   "source": [
    "# Simulator Integration\n",
    "\n",
    "In this tutorial we show how to integrate a simulator into OpenSBT. As an example we integrate the [CARLA]() simulator.\n",
    "\n",
    "OpenSBT offers the abstract class `Simulator`](https://git.fortiss.org/opensbt/opensbt-core/-/blob/main/simulation/simulator.py) which needs to be implemented to use a concrete simulator. I.e. we need to implement the [simulate]() method of the abstract class. Simulate receives as input a list of scenario instances, and outputs for each scenario instance a `SimulationOutput`. The implementation of `simulate` is simulator specific. Following steps need to be implemented:\n",
    "\n",
    "1. Passing the scenario instance(s) to the simulator and executing the SUT on the scenario(s).\n",
    "2. Converting the simulation output returned by the simulator to the format understandable by OpenSBT.\n",
    "\n",
    "\n",
    "To integrate we CARLA we outsourced the code for step 1 und step 2 in a dedicate module called ```[CarlaRunner](https://git.fortiss.org/fortissimo/ff1_testing/ff1_carla)``` for better maintenance. I.e. sstep 1 is implemented [here]() and step 2 [here]().\n",
    "\n"
   ]
  },
  {
   "cell_type": "markdown",
   "metadata": {},
   "source": []
  },
  {
   "cell_type": "markdown",
   "metadata": {},
   "source": [
    "The structure of the generic Simulation Output in OpenSBT is defined as follows.\n",
    "\n",
    "TODO update\n",
    "\n",
    "```json \n",
    "    {\n",
    "        \"simTime\" : 3,\n",
    "        \"times\": [1.0,2.0,3.0],\n",
    "        \"location\": { \"ego\" : [(1,1),(2,2),(3,3)],\n",
    "                    \"adversary\" : [(4,1),(4,2),(4,3)},\n",
    "\n",
    "        \"velocity\": { \"ego\" : [(0.5,0.5,0.5)],\n",
    "                        \"adversary\" : [(0.9,0.9,0.9)],\n",
    "                        },\n",
    "        \"collisions\": [],\n",
    "        \"speed\" : {\n",
    "            \"ego\" : [1,3,3],\n",
    "            \"adversary\" : [3,2,5],\n",
    "\n",
    "         },\n",
    "        \"orientation\": {},\n",
    "        \"actors\" : {1: \"ego\",\n",
    "                        2: \"adversary\"\n",
    "                    },\n",
    "        \"otherParams\" : {\n",
    "            \"height\" : \"2\",\n",
    "            \"width\" : \"5\n",
    "        \n",
    "        }\n",
    "    }\n",
    "```"
   ]
  },
  {
   "cell_type": "markdown",
   "metadata": {},
   "source": [
    "In the following is the implementation of the **CarlaSimulation** class provided. In line concrete scenario instance are created based on the scenario template provided via **scenario_path** and the generate test inputs in **list_individuals**. \n",
    "\n",
    "Then, the discussed CARLA Runner is called from within the simulate method (line X) to execute the SUT in the simulator on concrete scenarios stored in the SCENARIO_DIR folder. To inspect how this execution is triggered please check the [balancer]() class of the CARLA Runner repository. \n",
    "\n",
    "The balancer outputs the results via a json file which we can convert into a SimulationOutput instance (line X)."
   ]
  },
  {
   "cell_type": "code",
   "execution_count": 4,
   "metadata": {},
   "outputs": [
    {
     "ename": "ModuleNotFoundError",
     "evalue": "No module named 'simulation'",
     "output_type": "error",
     "traceback": [
      "\u001b[0;31m---------------------------------------------------------------------------\u001b[0m",
      "\u001b[0;31mModuleNotFoundError\u001b[0m                       Traceback (most recent call last)",
      "Cell \u001b[0;32mIn[4], line 3\u001b[0m\n\u001b[1;32m      1\u001b[0m \u001b[39mfrom\u001b[39;00m \u001b[39mpathlib\u001b[39;00m \u001b[39mimport\u001b[39;00m Path\n\u001b[1;32m      2\u001b[0m \u001b[39mfrom\u001b[39;00m \u001b[39mtyping\u001b[39;00m \u001b[39mimport\u001b[39;00m List, Dict\n\u001b[0;32m----> 3\u001b[0m \u001b[39mfrom\u001b[39;00m \u001b[39msimulation\u001b[39;00m\u001b[39m.\u001b[39;00m\u001b[39msimulator\u001b[39;00m \u001b[39mimport\u001b[39;00m Simulator, SimulationOutput\n\u001b[1;32m      4\u001b[0m \u001b[39mimport\u001b[39;00m \u001b[39mlogging\u001b[39;00m \u001b[39mas\u001b[39;00m \u001b[39mlog\u001b[39;00m\n\u001b[1;32m      5\u001b[0m \u001b[39mimport\u001b[39;00m \u001b[39mjson\u001b[39;00m\n",
      "\u001b[0;31mModuleNotFoundError\u001b[0m: No module named 'simulation'"
     ]
    }
   ],
   "source": [
    "from pathlib import Path\n",
    "from typing import List, Dict\n",
    "from simulation.simulator import Simulator, SimulationOutput\n",
    "import logging as log\n",
    "import json\n",
    "import os\n",
    "from model_ga.individual import Individual\n",
    "from carla_simulation.balancer import Balancer\n",
    "\n",
    "SCENARIO_DIR = \"/tmp/scenarios\"\n",
    "\n",
    "class CarlaSimulator(Simulator):\n",
    "\n",
    "    _balancer = None\n",
    "\n",
    "    ''' Simulates a set of scenarios and returns the simulation traces'''\n",
    "    @staticmethod\n",
    "    def simulate(\n",
    "        list_individuals: List[Individual],\n",
    "        variable_names: List[str],\n",
    "        scenario_path: str,\n",
    "        sim_time: float,\n",
    "        time_step: float,\n",
    "        do_visualize: bool = False\n",
    "    ) -> List[SimulationOutput]:\n",
    "        xosc = scenario_path\n",
    "        try:\n",
    "            for ind in list_individuals:\n",
    "                instance_values = [v for v in zip(variable_names,ind)]\n",
    "                CarlaSimulator.create_scenario_instance_xosc(\n",
    "                            xosc, \n",
    "                            dict(instance_values), \n",
    "                            outfolder=SCENARIO_DIR)\n",
    "            if CarlaSimulator._balancer is None:\n",
    "                CarlaSimulator._balancer = Balancer(\n",
    "                    directory = SCENARIO_DIR,\n",
    "                    jobs = 1,\n",
    "                    visualization = do_visualize,\n",
    "                    agent = 'NPCAgent'\n",
    "                )\n",
    "                CarlaSimulator._balancer.start()\n",
    "            # Execute SUT on scenario instances\n",
    "            outs = CarlaSimulator._balancer.run()\n",
    "            results = []\n",
    "            for out in outs:\n",
    "                simout = SimulationOutput.from_json(json.dumps(out))\n",
    "                results.append(simout)\n",
    "        except Exception as e:\n",
    "            raise e\n",
    "        finally:\n",
    "            # Remove all created .xosc scenario\n",
    "            file_list = [ f for f in os.listdir(SCENARIO_DIR) if f.endswith(\".xosc\") ]\n",
    "            for f in file_list:\n",
    "                os.remove(os.path.join(SCENARIO_DIR, f))\n",
    "        return results\n",
    "\n",
    "    ''' Replace parameter values in parameter declaration section in generic .xosc file \n",
    "    by provided values '''\n",
    "    @staticmethod\n",
    "    def create_scenario_instance_xosc(filename: str, values_dict: Dict, outfolder=None):\n",
    "        import xml.etree.ElementTree as ET\n",
    "        xml_tree = ET.parse(filename)\n",
    "\n",
    "        parameters = xml_tree.find('ParameterDeclarations')\n",
    "        for name, value in values_dict.items():\n",
    "            for parameter in parameters:\n",
    "                if parameter.attrib.get(\"name\") == name:\n",
    "                    parameter.attrib[\"value\"] = str(value)\n",
    "\n",
    "        # # Write the file out again\n",
    "        if outfolder is not None:\n",
    "            Path(outfolder).mkdir(parents=True, exist_ok=True)\n",
    "            filename = outfolder + os.sep + os.path.split(filename)[1]\n",
    "        splitFilename =  os.path.splitext(filename)\n",
    "        newPathPrefix = splitFilename[0]\n",
    "        ending = splitFilename[1]\n",
    "\n",
    "        suffix = \"\"\n",
    "        for k,v in values_dict.items():\n",
    "            suffix = suffix + \"_\" + str(v)\n",
    "\n",
    "        newFileName  = newPathPrefix + suffix + ending\n",
    "        xml_tree.write(newFileName)\n",
    "        return newFileName\n"
   ]
  },
  {
   "cell_type": "markdown",
   "metadata": {},
   "source": []
  },
  {
   "cell_type": "markdown",
   "metadata": {},
   "source": []
  },
  {
   "cell_type": "markdown",
   "metadata": {},
   "source": []
  }
 ],
 "metadata": {
  "kernelspec": {
   "display_name": "venv",
   "language": "python",
   "name": "python3"
  },
  "language_info": {
   "codemirror_mode": {
    "name": "ipython",
    "version": 3
   },
   "file_extension": ".py",
   "mimetype": "text/x-python",
   "name": "python",
   "nbconvert_exporter": "python",
   "pygments_lexer": "ipython3",
   "version": "3.8.10"
  },
  "orig_nbformat": 4,
  "vscode": {
   "interpreter": {
    "hash": "936ca7e20bca62b66c7c316e70494dc6b833065bb3866688df5c5758a2e02a05"
   }
  }
 },
 "nbformat": 4,
 "nbformat_minor": 2
}
