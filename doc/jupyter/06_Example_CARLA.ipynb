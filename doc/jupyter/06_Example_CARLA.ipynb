{
 "cells": [
  {
   "cell_type": "markdown",
   "metadata": {},
   "source": [
    "# Testing Example with CARLA (TODO: make code executable)\n",
    "\n",
    "((TODO: In this tutorial we show how to run OpenSBT to test an AEB Agent in the CARLA Simulator.))\n",
    "\n",
    "((TODO: add steps to integrate CarlaRunner and start experiment; Move modifying SBT components in 03_Defining_Experiment.ipynb))\n"
   ]
  },
  {
   "cell_type": "markdown",
   "metadata": {},
   "source": [
    "((Install CARLA Runner wheel))\n",
    "\n",
    "To run a CARLA Simulation we need to install the following modules:\n",
    "- The CARLA Runner\n",
    "- CARLA Scenario Runner (necessary)\n",
    "- Rosco (TODO)\n",
    "- CARLA\n",
    "\n",
    "The CARLA Runner library is installed as a dependency, while the other modules are just need to be downloaded and their path declared (see. README CARLA Runner) \n",
    "\n",
    "We show how to install the CARLA Runner, the other modules need to be installed via the README in CARLA Runner. \n",
    "\n",
    "First we download the CARLA Runner:\n",
    "\n",
    "```bash\n",
    "cd ..\n",
    "git clone https://git.fortiss.org/opensbt/carla-runner.git\n",
    "```\n",
    "\n",
    "And build then the wheel:\n",
    "\n",
    "```bash\n",
    "cd carla-runner\n",
    "python -m build\n",
    "```\n",
    "\n",
    "We can then import the wheel in OpenSBT:\n",
    "\n",
    "\n",
    "```bash\n",
    "cd ../opensbt-core\n",
    "pip install //path-to-wheel//\n",
    "```"
   ]
  },
  {
   "cell_type": "markdown",
   "metadata": {},
   "source": [
    "We can test whether the installation of the CARLA Runner was successfull:"
   ]
  },
  {
   "cell_type": "code",
   "execution_count": null,
   "metadata": {},
   "outputs": [],
   "source": [
    "((TODO))"
   ]
  },
  {
   "cell_type": "markdown",
   "metadata": {},
   "source": [
    "((Define CARLA Experiment))\n",
    "\n",
    "```python\n",
    "problem = ADASProblem(\n",
    "                        problem_name=\"TwoPedestriansCrossing\",\n",
    "                        scenario_path=os.getcwd() + \"/scenarios/PedestrianCrossingSecond.xosc\",\n",
    "                        xl=[0.5, 1, 0],\n",
    "                        xu=[3, 80, 60],\n",
    "                        simulation_variables=[\n",
    "                            \"PedestrianSpeed\",\n",
    "                            \"FinalHostSpeed\",\n",
    "                            \"PedestrianEgoDistanceStartWalk\"],\n",
    "                        fitness_function=FitnessMinDistanceVelocityFrontOnly(),  \n",
    "                        critical_function=CriticalAdasFrontCollisions(),\n",
    "                        simulate_function=CarlaSimulator.simulate,\n",
    "                        simulation_time=10,\n",
    "                        sampling_time=100,\n",
    "                        approx_eval_time=10,\n",
    "                        do_visualize=True\n",
    "                        )\n",
    "config = DefaultSearchConfiguration()\n",
    "experiment = Experiment(name=\"3\",\n",
    "                        problem=problem,\n",
    "                        algorithm=AlgorithmType.NSGAII,\n",
    "                        search_configuration=config)\n",
    "\n",
    "```"
   ]
  },
  {
   "cell_type": "code",
   "execution_count": null,
   "metadata": {},
   "outputs": [],
   "source": []
  },
  {
   "cell_type": "markdown",
   "metadata": {},
   "source": [
    "((Run Experiment))"
   ]
  },
  {
   "cell_type": "markdown",
   "metadata": {},
   "source": [
    "((Create a modified Experiment))\n",
    "\n",
    "```python\n",
    "def getExp1() -> Experiment:\n",
    "    problem = ADASProblem(\n",
    "                          problem_name=\"PedestrianCrossingStartWalk\",\n",
    "                          scenario_path=os.getcwd() + \"/scenarios/PedestrianCrossing.xosc\",\n",
    "                          xl=[0.5, 1, 0],\n",
    "                          xu=[3, 22, 60],\n",
    "                          simulation_variables=[\n",
    "                              \"PedSpeed\",\n",
    "                              \"EgoSpeed\",\n",
    "                              \"PedDist\"],\n",
    "                          fitness_function=FitnessMinDistanceVelocity(),  \n",
    "                          critical_function=CriticalAdasDistanceVelocity(),\n",
    "                          simulate_function=CarlaSimulator.simulate,\n",
    "                          simulation_time=10,\n",
    "                          sampling_time=100,\n",
    "                          approx_eval_time=10,\n",
    "                          do_visualize = False\n",
    "                          )\n",
    "    experiment = Experiment(name=\"1\",\n",
    "                            problem=problem,\n",
    "                            algorithm=AlgorithmType.NSGAII,\n",
    "                            search_configuration=DefaultSearchConfiguration())\n",
    "    return experiment\n",
    "```\n"
   ]
  }
 ],
 "metadata": {
  "kernelspec": {
   "display_name": "venv",
   "language": "python",
   "name": "python3"
  },
  "language_info": {
   "name": "python",
   "version": "3.8.10 (default, May 26 2023, 14:05:08) \n[GCC 9.4.0]"
  },
  "orig_nbformat": 4,
  "vscode": {
   "interpreter": {
    "hash": "936ca7e20bca62b66c7c316e70494dc6b833065bb3866688df5c5758a2e02a05"
   }
  }
 },
 "nbformat": 4,
 "nbformat_minor": 2
}
