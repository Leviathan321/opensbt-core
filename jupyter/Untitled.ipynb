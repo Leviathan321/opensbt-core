{
 "cells": [
  {
   "cell_type": "code",
   "execution_count": 1,
   "id": "68da6187",
   "metadata": {},
   "outputs": [
    {
     "name": "stdout",
     "output_type": "stream",
     "text": [
      "[1.00e+00 1.90e+00 2.80e+00 3.70e+00 4.60e+00 5.50e+00 6.40e+00 7.30e+00\n",
      " 8.20e+00 9.10e+00 1.00e+01 1.00e+00 9.00e-01 8.00e-01 7.00e-01 6.00e-01\n",
      " 5.00e-01 4.00e-01 3.00e-01 2.00e-01 1.00e-01 0.00e+00 1.00e+00 1.09e+01\n",
      " 2.08e+01 3.07e+01 4.06e+01 5.05e+01 6.04e+01 7.03e+01 8.02e+01 9.01e+01\n",
      " 1.00e+02 1.00e+01 1.00e+01 1.00e+01 1.00e+01 1.00e+01 1.00e+01 1.00e+01\n",
      " 1.00e+01 1.00e+01 1.00e+01]\n"
     ]
    }
   ],
   "source": [
    "from array import array\n",
    "from math import sin,cos,pi,ceil\n",
    "import numpy as np\n",
    "\n",
    "def planMotion(startingPosition,orientation,velocity,simTime,samplingTime):\n",
    "    theta = orientation \n",
    "    T = simTime\n",
    "    v = velocity\n",
    "    t = samplingTime\n",
    "    \n",
    "    S = v*simTime\n",
    "    distX = sin(theta*pi/180)*S\n",
    "    distY = cos(theta*pi/180)*S\n",
    "    nSteps = ceil(T/t)\n",
    "\n",
    "    stepDistX = distX/nSteps\n",
    "    stepDistY = distY/nSteps\n",
    "    \n",
    "    res = np.arange(4,nSteps)\n",
    "    \n",
    "    arrayTime = np.linspace(1, simTime, nSteps + 1)\n",
    "    arrayX = np.linspace(startingPosition[0], distX, nSteps + 1 )\n",
    "    arrayY = np.linspace(startingPosition[1], distY, nSteps + 1)\n",
    "    arrayV = velocity * np.ones(nSteps, dtype=np.int64)\n",
    "\n",
    "    return np.concatenate((arrayTime,arrayX,arrayY,arrayV))\n",
    "\n",
    "motion = planMotion(np.array([1,1]),0,10,10,1)\n",
    "\n",
    "print(motion)"
   ]
  },
  {
   "cell_type": "code",
   "execution_count": 38,
   "id": "3a08062d",
   "metadata": {},
   "outputs": [
    {
     "name": "stdout",
     "output_type": "stream",
     "text": [
      "[11.11111111 12.22222222 13.33333333 14.44444444 15.55555556 16.66666667\n",
      " 17.77777778 18.88888889 20.        ]\n"
     ]
    }
   ],
   "source": [
    "a = np.linspace(1,2,10)\n",
    "b = np.linspace(10,20,10)\n",
    "c = np.concatenate([[a],[b]]).reshape(2,10)\n",
    "\n",
    "print(c[1,1:10])"
   ]
  },
  {
   "cell_type": "code",
   "execution_count": 39,
   "id": "6d6d1f5a",
   "metadata": {},
   "outputs": [],
   "source": [
    "\n",
    "from ctypes import Array\n",
    "from dataclasses import dataclass\n",
    "from typing import Dict, List\n",
    "\n",
    "@dataclass\n",
    "class SimulationOutput(object):\n",
    "    egoTrajectory: List\n",
    "    objectTrajectory: List\n",
    "    simTime: float\n",
    "    otherParams: Dict\n",
    "    pass\n",
    "\n",
    "from cmath import pi, sin\n",
    "from math import cos\n",
    "import numpy \n",
    "import numpy.linalg as nplg\n",
    "\n",
    "class DummySimulator(object):\n",
    "    samplingTime = 1\n",
    "    @staticmethod\n",
    "    def simulate(vars, simTime: float, samplingTime=samplingTime) -> SimulationOutput:\n",
    "\n",
    "        egoInitialVelocity = vars[3]\n",
    "        pedInitialVelocity = vars[7]\n",
    "\n",
    "        egoTrajectory = planMotion(vars[0:3],simTime,samplingTime)\n",
    "        objectTrajectory = planMotion(vars[4:7],simTime,samplingTime)\n",
    "\n",
    "        colpoint = intersect(egoTrajectory,objectTrajectory)\n",
    "                                     \n",
    "        dist_ego_colpoint = nplg.norm(colpoint - egoTrajectory[1:2,0])\n",
    "        dist_ped_colpoint = nplg.norm(colpoint - objectTrajectory[1:2,0])\n",
    "        \n",
    "        t_col_ego = dist_ego_colpoint/egoInitialVelocity\n",
    "        t_col_ped = dist_ped_colpoint/pedInitialVelocity\n",
    "        \n",
    "        # collision occurs when both objects reach line crossing at\n",
    "        # the same time (with some tolerance)\n",
    "        \n",
    "        t_tolerance = 5; #time tolerance for missed collision  \n",
    "\n",
    "        otherparams = {}\n",
    "        if  (colpoint!=[]) and (t_col_ego - t_col_ped) < t_tolerance:\n",
    "            otherparams['isCollision'] = True\n",
    "        else:\n",
    "            otherparams['isCollision'] = False\n",
    "        \n",
    "        return SimulationOutput(simTime,egoTrajectory=egoTrajectory,objectTrajectory=objectTrajectory, otherParams=None)"
   ]
  },
  {
   "cell_type": "code",
   "execution_count": null,
   "id": "30ba631e",
   "metadata": {},
   "outputs": [],
   "source": []
  },
  {
   "cell_type": "code",
   "execution_count": 40,
   "id": "8db6f5f0",
   "metadata": {},
   "outputs": [],
   "source": [
    "import numpy as np\n",
    "def intersect(x,y):\n",
    "    return np.array([])"
   ]
  },
  {
   "cell_type": "code",
   "execution_count": 8,
   "id": "c36944ce",
   "metadata": {},
   "outputs": [
    {
     "name": "stdout",
     "output_type": "stream",
     "text": [
      "critical :61\n",
      "not critical :34\n",
      "|--- feature_6 <= 7.37\n",
      "|   |--- class: True\n",
      "|--- feature_6 >  7.37\n",
      "|   |--- feature_2 <= 11.19\n",
      "|   |   |--- class: True\n",
      "|   |--- feature_2 >  11.19\n",
      "|   |   |--- class: False\n",
      "\n",
      "n_nodes: 5\n",
      "child left : [ 1 -1  3 -1 -1]\n",
      "child right : [ 2 -1  4 -1 -1]\n",
      "feature: [ 6 -2  2 -2 -2]\n",
      "threshold: [ 7.37233782 -2.         11.18811369 -2.         -2.        ]\n",
      "n_node_samples: [95 19 76 30 46]\n",
      "values: [[[34. 61.]]\n",
      "\n",
      " [[ 0. 19.]]\n",
      "\n",
      " [[34. 42.]]\n",
      "\n",
      " [[ 7. 23.]]\n",
      "\n",
      " [[27. 19.]]]\n"
     ]
    },
    {
     "ename": "TypeError",
     "evalue": "can only concatenate str (not \"list\") to str",
     "output_type": "error",
     "traceback": [
      "\u001b[1;31m---------------------------------------------------------------------------\u001b[0m",
      "\u001b[1;31mTypeError\u001b[0m                                 Traceback (most recent call last)",
      "\u001b[1;32mc:\\Users\\sorokin\\Documents\\Projects\\FOCETA\\python_algorithm\\jupyter\\Untitled.ipynb Cell 5'\u001b[0m in \u001b[0;36m<cell line: 78>\u001b[1;34m()\u001b[0m\n\u001b[0;32m     <a href='vscode-notebook-cell:/c%3A/Users/sorokin/Documents/Projects/FOCETA/python_algorithm/jupyter/Untitled.ipynb#ch0000004?line=73'>74</a>\u001b[0m     \u001b[39mreturn\u001b[39;00m inds\n\u001b[0;32m     <a href='vscode-notebook-cell:/c%3A/Users/sorokin/Documents/Projects/FOCETA/python_algorithm/jupyter/Untitled.ipynb#ch0000004?line=75'>76</a>\u001b[0m ind_s_in_node \u001b[39m=\u001b[39m ind_in_node(\u001b[39m0\u001b[39m,classResults\u001b[39m=\u001b[39mclassResults,pop\u001b[39m=\u001b[39mx_all)\n\u001b[1;32m---> <a href='vscode-notebook-cell:/c%3A/Users/sorokin/Documents/Projects/FOCETA/python_algorithm/jupyter/Untitled.ipynb#ch0000004?line=77'>78</a>\u001b[0m \u001b[39mprint\u001b[39m(\u001b[39m\"\u001b[39;49m\u001b[39mind_s in node:\u001b[39;49m\u001b[39m\"\u001b[39;49m \u001b[39m+\u001b[39;49m ind_s_in_node)\n\u001b[0;32m     <a href='vscode-notebook-cell:/c%3A/Users/sorokin/Documents/Projects/FOCETA/python_algorithm/jupyter/Untitled.ipynb#ch0000004?line=79'>80</a>\u001b[0m \u001b[39mprint\u001b[39m(classResults)\n",
      "\u001b[1;31mTypeError\u001b[0m: can only concatenate str (not \"list\") to str"
     ]
    },
    {
     "data": {
      "image/png": "[encoded data removed]",
      "text/plain": [
       "<Figure size 432x288 with 1 Axes>"
      ]
     },
     "metadata": {
      "needs_background": "light"
     },
     "output_type": "display_data"
    }
   ],
   "source": [
    "from sklearn import tree\n",
    "import numpy as np\n",
    "\n",
    "x_all= np.array([[0.0, 0, 14.553642627229703, 9.995321824442247, 100, 100.0, 10.71695905648141, 9], [0.0, 0, 14.553642627229703, 9.995321824442247, 100, 100.0, 10.71695905648141, \n",
    "9], [0, 0.0, 11.314741488997434, 8.920055043734283, 100, 100.0, 2.2416107578079236, 7.299491730793576], [0, 0, 11.314741488997434, 8.920055043734283, 100, 100.0, 2.2416107578079236, 7.299491730793576], [0, 0.0, 11.314741488997434, 8.920055043734283, 100, 100.0, 2.2416107578079236, 7.299491730793576], [0, 0, 11.314741488997434, 8.920055043734283, 100, 100.0, 2.2416107578079236, 7.299491730793576], [0, 0.0, 11.314741488997434, 8.920055043734283, 100, 100.0, 2.2416107578079236, 7.299491730793576], [0, 0, 11.314741488997434, 8.920055043734283, 100, 100.0, 2.2416107578079236, 7.299491730793576], [0, 0, 11.314741488997434, 8.920055043734283, 100, 100.0, 2.2416107578079236, 7.299491730793576], [0.0, 0, 11.060946961337898, 8.749895922832046, 100, 100, 8.010503272417804, 8.108287779565591], [0, 0.0, 11.331858537248122, 8.920055043734283, 100, 100.0, 2.2416107578079236, 7.299491730793576], [0, 0.0, 11.331858537248122, 8.920055043734283, 100, 100.0, 2.2416107578079236, 7.299491730793576], [0, 0.0, 11.336518227537873, 8.920055043734283, 100, 100.0, 2.2416107578079236, 7.299491730793576], [0.0, 0, 17.951792282304936, 7.815317802031998, \n",
    "100.0, 100, 14.213078789868536, 6.935971082880489], [0.0, 0, 11.339580489908437, 8.749895922832046, 100.0, 100, 7.990739606159032, 8.058016548629254], [0, 0, 18.097685073860927, 7.8501673628645445, 100, 100, 14.260373844891019, 6.961193681863563], [0, 0, 18.097685073860927, 7.8501673628645445, 100, 100, 14.260373844891019, 6.961193681863563], [0, 0.0, 11.322399120529253, 8.915237700604644, 100.0, 100, 7.313837274837621, 8.08598632001306], [0.0, 0.0, 16.758611580678096, 8.453522648638629, 100, 100, 14.964024016500826, 8], [0.0, 0.0, 16.758611580678096, 8.453522648638629, 100, 100, 14.964024016500826, 8], [0.0, 0.0, 16.758611580678096, 8.453522648638629, 100, 100, 14.964024016500826, 8], [0.0, 0.0, 16.758611580678096, 8.453522648638629, 100, 100, 14.964024016500826, 8], [0.0, 0.0, 16.758611580678096, 8.453522648638629, 100, 100, 14.964024016500826, 8], [0, 0.0, 11.336518227537873, 8.91309094103487, 100, 100.0, 2.2416107578079236, 7.299491730793576], [0.0, 0, 11, 8.756355924289885, 100.0, 100, 7.497194777599334, 8.058016548629254], [0.0, 0, 18.097685073860927, 7.8501673628645445, 100.0, 100, 14.260373844891019, 6.977887663810403], [0.0, 0, 8.879220624550664, 10, 100, 100, 8, 9.802006687658363], [0, 0, 8.879220624550664, 10, 100, 100, 8, 9.802006687658363], [0, 0, 8.879220624550664, 10, \n",
    "100, 100, 8, 9.802006687658363], [0, 0, 8.879220624550664, 10, 100, 100, 8, 9.802006687658363], [0, 0, 17.9449759208411, 7.8240664063167005, 100.0, 100, 14.277720900701478, 6.947810507458068], [0, 0, 17.9449759208411, 7.8240664063167005, 100.0, 100, 14.260373844891019, 6.9243684966476975], [0, 0.0, 11.326258103327088, 8.920055043734283, 100.0, 100.0, 2.0954861071622135, 7.295773816330227], [0, 0.0, 11.326258103327088, 8.920055043734283, 100.0, 100.0, 2.0954861071622135, 7.295773816330227], [0, 0, 17.93159165636584, 7.8240664063167005, 100.0, 100, 14.260373844891019, 6.9243684966476975], [0.0, 0.0, 16.88884971197968, 8.418426684360714, 100, 100.0, 15.51178403918848, 8.072002516013757], [0, 0.0, 9.617579761415888, 8.515260426120374, 100.0, 100.0, 2.2416107578079236, 7.292679251110027], [0, 0.0, 9.617579761415888, 8.515260426120374, 100.0, 100.0, 2.2416107578079236, 7.292679251110027], [0, 0.0, 9.617579761415888, 8.515260426120374, 100.0, 100.0, 2.2416107578079236, 7.292679251110027], [0, 0.0, 9.617579761415888, 8.515260426120374, 100, 100.0, 2.2416107578079236, 7.292679251110027], [0.0, 0.0, 11.322316664525838, 8.915237700604644, 100.0, 100.0, 7.510471945065626, 8.088236593117802], [0, 0.0, 11, 8.749895922832046, 100.0, 100.0, 7.431201777013275, 8.055328701253728], [0.0, 0, 11, 8.751544940833105, 100.0, 100, 7.431201777013275, 8.058016548629254], [0.0, 0, 11, 8.751544940833105, 100.0, 100, 7.431201777013275, 8.058016548629254], [0.0, 0, 11, 8.751544940833105, 100.0, 100, 7.431201777013275, 8.058016548629254], [0.0, 0.0, 11, 8.749895922832046, 100.0, 100, 7.431201777013275, 8.058016548629254], [0.0, 0, 11, 8.749895922832046, 100.0, 100, 7.431201777013275, 8.058016548629254], [0.0, 0, 11, 8.749895922832046, 100.0, 100, 7.431201777013275, 8.058016548629254], [0.0, 0, \n",
    "11, 8.749895922832046, 100.0, 100, 7.431201777013275, 8.058016548629254], [0.0, 0, 11, 8.749895922832046, 100.0, 100, 7.431201777013275, 8.058016548629254], [0.0, \n",
    "0, 11, 8.749895922832046, 100.0, 100, 7.431201777013275, 8.058016548629254], [0.0, 0, 11, 8.749895922832046, 100.0, 100, 7.431201777013275, 8.058016548629254], [0.0, 0, 11, 8.749895922832046, 100.0, 100, 7.431201777013275, 8.058016548629254], [0.0, 0, 11, 8.749895922832046, 100.0, 100, 7.431201777013275, 8.058016548629254], \n",
    "[0, 0, 11, 8.749895922832046, 100, 100, 7.431201777013275, 8.058016548629254], [0.0, 0, 11, 8.749895922832046, 100.0, 100, 7.431201777013275, 8.058016548629254], [0.0, 0, 11, 8.749895922832046, 100.0, 100, 7.431201777013275, 8.058016548629254], [0.0, 0, 11, 8.749895922832046, 100.0, 100, 7.431201777013275, 8.058016548629254], [0, 0.0, 11.018153408462291, 8.920055043734283, 100.0, 100.0, 2.1723174895760087, 7.292679251110027], [0, 0.0, 16.82951021571378, 8.419150566127016, 100.0, 100, \n",
    "15.2892614901053, 8.05626187756637], [0, 0, 16.82951021571378, 8.419150566127016, 100, 100, 15.2892614901053, 8.05626187756637], [0, 0, 16.82951021571378, 8.419150566127016, 100, 100, 15.2892614901053, 8.05626187756637], [0, 0, 16.82951021571378, 8.419150566127016, 100, 100, 15.2892614901053, 8.05626187756637], [0.0, 0, 11, \n",
    "8.751544940833105, 100.0, 100, 7.431201777013275, 8.002001396869389], [0.0, 0, 17.9449759208411, 7.806956244798677, 100.0, 100, 14.141994618677092, 6.947667619321854], [0.0, 0, 11, 8.749895922832046, 100.0, 100, 7.431201777013275, 8.063608125683471], [0.0, 0, 11.322316664525838, 8.91311907257574, 100.0, 100.0, 7.43083871103568, 8.069011444751274], [0.0, 0.0, 9, 10, 100.0, 100.0, 8, 9.802006687658363], [0.0, 0.0, 9, 10, 100.0, 100, 8, 9.802006687658363], [0.0, 0.0, 9, 10, 100.0, 100, 8, 9.802006687658363], [0.0, 0.0, 9, 10, 100.0, 100, 8, 9.802006687658363], [0.0, 0, 9, 10, 100.0, 100, 8, 9.802006687658363], [0, 0, 11.332573546204557, 8.749895922832046, 100, 100.0, 7.431201777013275, 7.994408422945782], [0.0, 0, 17.9449759208411, 7.806956244798677, 100.0, 100, 14.260373844891019, 6.977887663810403], [0, 0, 11.332573546204557, 8.749895922832046, 100.0, 100.0, 7.431201777013275, 8], [0.0, 0.0, 11.315279978451642, 8.739829820469623, 100.0, 100, 7.431201777013275, 7.999379039006158], [0.0, 0, 17.9449759208411, 7.7652620307605735, 100.0, 100, 14.39991243061521, 6.977887663810403], [0.0, 0.0, 16.871572520786565, 8.418426684360714, 100.0, 100.0, 15.60406607934475, 8.072002516013757], [0.0, 0.0, 16.871572520786565, 8.418426684360714, 100, 100.0, 15.60406607934475, 8.072002516013757], [0.0, 0.0, 16.871572520786565, 8.418426684360714, 100.0, 100.0, 15.60406607934475, 8.072002516013757], [0.0, 0, 18.097685073860927, 7.8501673628645445, 100.0, 100, 14.260373844891019, 6.994304513017549], [0.0, 0, 18.097685073860927, 7.8501673628645445, 100.0, 100, 14.260373844891019, 6.994304513017549], [0.0, 0, 14.290039769121508, \n",
    "10.000186487751078, 100, 100.0, 10.66679183188162, 9], [0.0, 0, 18.09985626722647, 7.8501673628645445, 100.0, 100, 14.260373844891019, 6.897641121586547], [0.0, 0, 14.595364170319638, 10.060759526786166, 100.0, 100.0, 10.71695905648141, 9], [0, 0, 14.595364170319638, 10.060759526786166, 100.0, 100.0, 10.71695905648141, 9], [0.0, 0, 14.595364170319638, 10.060759526786166, 100.0, 100.0, 10.714127569679338, 9.002230929478712], [0.0, 0.0, 16.871572520786565, 8.42150581272027, 100.0, 100.0, 15.008779836904221, 7.98668749091981], [0.0, 0.0, 16.871572520786565, 8.42150581272027, 100.0, 100.0, 15.008779836904221, 7.98668749091981], [0.0, 0.0, 16.766116896340645, 8.419843103483688, 100.0, 100, 14.964320293971388, 8], [0.0, 0, 16.766116896340645, 8.419843103483688, 100.0, 100, 14.964320293971388, 8], [0.0, 0.0, 11.322316664525838, 8.91311907257574, 100.0, 100.0, 7.43083871103568, 8.058016548629254], [0.0, 0.0, 11.322316664525838, 8.91311907257574, 100.0, 100.0, 7.43083871103568, 8.058016548629254], [0.0, 0, 11.322316664525838, 8.91311907257574, 100.0, 100, 7.43083871103568, 8.058016548629254], [0.0, 0, 11.322316664525838, 8.91311907257574, 100.0, 100.0, 7.43083871103568, 8.058016548629254], [0.0, 0.0, 11.322316664525838, 8.91311907257574, 100.0, 100.0, 7.43083871103568, 8.058016548629254], [0.0, 0.0, 11.322316664525838, 8.91311907257574, 100.0, 100.0, 7.43083871103568, 8.058016548629254], [0.0, 0, 11.322316664525838, 8.91311907257574, 100.0, 100, 7.43083871103568, 8.058016548629254], [0, 0.0, 11.336518227537873, 8.920055043734283, 100, 100.0, 1.951842242473814, 7.299491730793576], [0, 0.0, 11.322316664525838, 8.915284548652819, 100.0, 100, 7.372187988600633, 8.058016548629254], [0.0, 0.0, 11.328344894812588, 8.915237700604644, 100.0, 100.0, 7.392092718935336, 8.058016548629254], [0.0, 0.0, 11.328344894812588, 8.915237700604644, 100.0, 100.0, 7.392092718935336, 8.058016548629254], [0.0, 0.0, 11.322316664525838, 8.91311907257574, 100.0, 100.0, 7.445774802807812, 8.058016548629254], [0.0, 0.0, 11.322316664525838, 8.91311907257574, 100, 100.0, 7.445774802807812, 8.058016548629254], [0, 0, 11.322529684618829, 8.915237700604644, 100.0, 100, 7.390082582410978, 8.058016548629254], [0, 0.0, 11.322316664525838, 8.915237700604644, 100.0, 100, 7.390322795247474, 8.058016548629254], [0.0, 0.0, 11.322316664525838, 8.915237700604644, 100.0, 100.0, 7.392092718935336, 8.058016548629254], [0.0, 0.0, 11.322316664525838, 8.915237700604644, 100.0, 100.0, 7.392092718935336, 8.058016548629254], [0.0, 0.0, 11.322316664525838, 8.915237700604644, 100.0, 100.0, 7.392092718935336, 8.058016548629254], [0.0, 0.0, 11.322316664525838, 8.915237700604644, 100.0, 100.0, 7.392092718935336, 8.058016548629254], [0.0, 0.0, 11.322316664525838, 8.915237700604644, 100.0, 100.0, 7.392092718935336, 8.058016548629254], [0.0, 0.0, 11.322316664525838, 8.915237700604644, 100.0, 100.0, 7.392092718935336, 8.058016548629254], [0.0, 0.0, 11.322316664525838, 8.915237700604644, 100.0, 100.0, 7.392092718935336, 8.058016548629254], [0.0, 0.0, 11.322316664525838, 8.915237700604644, 100, 100.0, 7.315607198525482, 8.058016548629254], [0, 0.0, 11.322316664525838, 8.915237700604644, 100.0, 100, 7.313837274837621, 8.058016548629254], [0, 0.0, 11.315158498131346, 8.91311907257574, 100.0, 100.0, 7.445774802807812, 8.058016548629254], [0, 0.0, 11.315158498131346, 8.91311907257574, 100.0, 100.0, 7.445774802807812, 8.058016548629254], [0, 0.0, 11.315158498131346, 8.91311907257574, 100.0, 100, 7.445774802807812, 8.058016548629254], [0, 0.0, 11.314945478038354, 8.91311907257574, 100.0, 100.0, 7.446015015644308, 8.058016548629254], [0, 0, 17.9449759208411, 7.824376797354091, 100, 100, 14.260612164526638, 6.974259038752214], [0, 0, 17.9449759208411, 7.8240664063167005, 100.0, 100, 14.260373844891019, 6.97407540769079], [0, 0, 17.9449759208411, 7.8240664063167005, 100.0, 100, 14.260373844891019, 6.97407540769079], [0, 0, 17.9449759208411, 7.8240664063167005, 100.0, 100, 14.260373844891019, 6.97407540769079], [0, 0, 17.9449759208411, 7.8240664063167005, 100.0, 100, 14.260373844891019, 6.97407540769079], [0.0, 0.0, 11.322316664525838, 8.915237700604644, 100, 100, 7.315607198525482, 8.056858245808007], [0.0, 0.0, 11.916818527302748, 7.614313731925961, 100.0, 100.0, 7.090859900093019, 6.749112372308176], [0.0, 0.0, 11.916818527302748, 7.614313731925961, 100.0, 100.0, 7.090859900093019, 6.749112372308176], [0.0, 0.0, 11.916818527302748, 7.614313731925961, 100.0, 100.0, 7.090859900093019, 6.749112372308176], [0.0, 0.0, 11.916818527302748, 7.614313731925961, 100.0, 100.0, 7.090859900093019, 6.749112372308176], [0, 0, 17.9449759208411, 7.8240664063167005, 100.0, 100, 14.277720900701478, 6.97407540769079], [0, 0, 17.9449759208411, 7.8240664063167005, 100.0, 100, 14.277720900701478, 6.97407540769079], [0, 0, 17.9449759208411, 7.8240664063167005, 100.0, 100, 14.277720900701478, 6.97407540769079], [0.0, 0.0, 11.370769521411798, 8.915237700604644, 100, 100.0, 7.502147171085602, 8.058016548629254], [0.0, 0.0, 11.370769521411798, 8.915237700604644, 100, \n",
    "100.0, 7.502147171085602, 8.058016548629254], [0.0, 0.0, 11.370769521411798, 8.915237700604644, 100, 100, 7.502147171085602, 8.058016548629254], [0.0, 0.0, 11.370769521411798, 8.915237700604644, 100, 100.0, 7.502147171085602, 8.058016548629254], [0.0, 0.0, 11.370769521411798, 8.915237700604644, 100, 100.0, 7.502147171085602, 8.058016548629254], [0.0, 0.0, 11.370769521411798, 8.915237700604644, 100, 100, 7.502147171085602, 8.058016548629254], [0, 0, 17.9449759208411, 7.8240664063167005, 100.0, 100, 14.283816052198727, 6.97407540769079], [0.0, 0, 11.322316664525838, 8.915237700604644, 100, 100.0, 7.318438685327554, 8.055785619149985], [0.0, 0, 14.595364170319638, 10.060759526786166, 100.0, 100.0, 10.757089144092074, 9], [0.0, 0.0, 14.595364170319638, 10.060759526786166, 100.0, 100.0, 10.757617244755409, 9], [0.0, 0.0, 14.595364170319638, 10.060759526786166, 100.0, 100.0, 10.757617244755409, 9], [0.0, 0.0, 14.595364170319638, 10.060759526786166, 100.0, 100.0, 10.757617244755409, 9], [0.0, 0.0, 14.595364170319638, 10.060759526786166, 100.0, 100, 10.757617244755409, 9], [0.0, 0, 11.322316664525838, 8.91311907257574, 100, 100, 7.178271134497858, 8.058016548629254], [0.0, 0, 11.322316664525838, 8.91311907257574, 100, 100, 7.178271134497858, 8.058016548629254], [0.0, 0.0, 16.871572520786565, 8.42153095886869, 100.0, 100.0, 15, 7.991884918515932], [0.0, 0.0, 16.871572520786565, 8.42153095886869, 100.0, 100, 15, 7.991884918515932], [0.0, 0.0, 16.871572520786565, 8.42150581272027, 100.0, 100.0, 15, 7.99208628030355], [0.0, 0.0, 16.871572520786565, 8.42150581272027, 100.0, 100.0, 15, 7.99208628030355], [0.0, 0.0, 16.871572520786565, 8.42150581272027, 100.0, 100.0, 15, 7.99208628030355], [0.0, 0.0, 16.871572520786565, 8.42150581272027, 100.0, 100.0, 15, 7.99208628030355], [0.0, 0.0, 16.871572520786565, 8.42150581272027, 100.0, 100.0, 15, 7.99208628030355], [0.0, 0.0, 16.871572520786565, 8.42150581272027, 100.0, 100.0, 15, 7.99208628030355], [0.0, 0.0, 16.871572520786565, 8.42150581272027, 100.0, 100.0, 15, 7.99208628030355], [0.0, 0.0, 9.668124524140762, 8.548946791488184, 100.0, 100.0, 5, 7.6424202900179585], [0, 0, 9.668124524140762, 8.548946791488184, 100.0, 100.0, 5, 7.6424202900179585], [0.0, 0.0, 9.668124524140762, 8.548946791488184, 100.0, 100.0, 5, 7.6424202900179585], [0, 0, 9.668124524140762, 8.548946791488184, 100.0, 100.0, 5, 7.6424202900179585], [0.0, 0.0, 9.668124524140762, 8.548946791488184, 100, 100.0, 5, 7.6424202900179585], [0, 0, 11.626666220104108, 8.920055043734283, 100, 100.0, 2.2416107578079236, 7.292679251110027], [0.0, 0.0, 16.649949456704814, 8.418426684360714, 100.0, 100, 15, 8.057107998620658], [0, 0.0, 16.649949456704814, 8.418426684360714, 100.0, 100, 15, 8.057107998620658], [0, 0.0, 11.629887220907722, 8.920055043734283, 100.0, 100, 2.2416107578079236, 7.292679251110027], [0, 0.0, 11.629887220907722, 8.920055043734283, 100, 100, 2.2416107578079236, 7.292679251110027], [0, 0.0, 11.629887220907722, 8.920055043734283, 100, 100, 2.2416107578079236, 7.292679251110027], [0, 0.0, 11.315158498131346, 8.920083175275153, 100.0, 100.0, 7.445774802807812, 8.058016548629254], [0, 0.0, 11.315158498131346, 8.920083175275153, 100.0, 100.0, 7.445774802807812, 8.058016548629254], [0.0, 0.0, 16.871572520786565, 8.418512764665083, 100.0, 100.0, 15.014613878741358, 7.991884918515932], [0, 0.0, 11.643783268354795, 8.920055043734283, 100.0, 100.0, 2.2416107578079236, 7.286578648499079], [0, 0.0, 11.643783268354795, 8.920055043734283, 100.0, 100.0, 2.2416107578079236, 7.286578648499079], [0, 0.0, 11.643783268354795, 8.920055043734283, 100, 100.0, 2.2416107578079236, 7.291607977288911], [0, 0.0, 11.643783268354795, 8.920055043734283, 100, 100.0, 2.2416107578079236, 7.291607977288911], [0, 0.0, 11.643783268354795, 8.918406025733224, 100, 100.0, 2.2416107578079236, 7.292679251110027], [0, 0.0, 11.643783268354795, 8.918406025733224, 100, 100.0, 2.2416107578079236, 7.292679251110027], [0, 0.0, 11.643783268354795, 8.920055043734283, 100.0, 100.0, 2.2416107578079236, 7.292679251110027], [0, 0, 11.643783268354795, 8.920055043734283, 100.0, 100.0, 2.2416107578079236, 7.292679251110027], [0, 0.0, 11.643783268354795, 8.920055043734283, 100.0, 100.0, 2.2416107578079236, 7.292679251110027], [0, 0.0, 11.643783268354795, 8.920055043734283, 100.0, 100.0, 2.2416107578079236, 7.292679251110027], [0, 0.0, 11.643783268354795, 8.920055043734283, \n",
    "100, 100.0, 2.2416107578079236, 7.292679251110027], [0, 0.0, 11.643783268354795, 8.920055043734283, 100.0, 100.0, 2.2416107578079236, 7.292679251110027], [0, 0.0, \n",
    "11.643783268354795, 8.920055043734283, 100.0, 100.0, 2.2416107578079236, 7.292679251110027], [0, 0.0, 11.643783268354795, 8.920055043734283, 100.0, 100.0, 2.2416107578079236, 7.292679251110027], [0, 0.0, 11.643783268354795, 8.920055043734283, 100, 100.0, 2.2416107578079236, 7.292679251110027], [0, 0.0, 11.643783268354795, 8.920055043734283, 100.0, 100.0, 2.2416107578079236, 7.292679251110027], [0, 0.0, 11.643783268354795, 8.920055043734283, 100.0, 100.0, 2.2416107578079236, 7.292679251110027], [0, 0.0, 11.643783268354795, 8.920055043734283, 100, 100, 2.2416107578079236, 7.292679251110027], [0, 0.0, 11.643783268354795, 8.920055043734283, 100.0, \n",
    "100, 2.2416107578079236, 7.292679251110027], [0, 0, 11.643783268354795, 8.920055043734283, 100.0, 100.0, 2.2416107578079236, 7.292679251110027], [0, 0.0, 11.643783268354795, 8.920055043734283, 100.0, 100.0, 2.2416107578079236, 7.292679251110027], [0, 0.0, 11.643783268354795, 8.920055043734283, 100.0, 100.0, 2.2416107578079236, 7.292679251110027], [0, 0, 11.643783268354795, 8.920055043734283, 100.0, 100.0, 2.2416107578079236, 7.292679251110027], [0, 0.0, 11.643783268354795, 8.920055043734283, 100.0, 100.0, 2.2416107578079236, 7.292679251110027], [0, 0.0, 11.643783268354795, 8.920055043734283, 100, 100.0, 2.2416107578079236, 7.292679251110027], [0, 0.0, 11.643783268354795, 8.920055043734283, 100, 100.0, 2.2416107578079236, 7.292679251110027], [0, 0, 11.643783268354795, 8.920055043734283, 100.0, 100.0, 2.2416107578079236, 7.292679251110027], [0, 0.0, 11.643783268354795, 8.920055043734283, 100.0, 100.0, 2.2416107578079236, 7.292679251110027], [0, 0, 11.643783268354795, 8.920055043734283, 100.0, 100.0, 2.2416107578079236, 7.292679251110027], [0, 0.0, 11.643783268354795, 8.920055043734283, 100.0, 100.0, 2.2416107578079236, 7.292679251110027]])\n",
    "\n",
    "y_all = np.array([True, True, True, True, True, True, True, True, True, True, True, True, True, True, True, True, True, True, True, True, True, True, True, True, True, True, True, \n",
    "True, True, True, True, True, True, True, True, True, True, True, True, True, True, True, True, True, True, True, True, True, True, True, True, True, True, True, True, True, True, True, True, True, True, False, False, False, False, False, False, False, False, False, False, False, False, False, False, False, False, False, False, False, False, False, False, False, False, False, False, False, False, False, False, False, False, False, False, False, False, False, False, False, False, False, False, False, False, False, False, False, False, False, False, False, False, False, False, False, False, False, False, False, False, False, False, False, False, \n",
    "False, False, False, False, False, False, False, False, False, False, False, False, False, False, False, False, False, False, False, False, False, False, False, False, False, False, False, False, False, False, False, False, False, False, False, False, False, False, False, False, False, False, False, False, False, False, False, False, False, False, False, False, False, False, False, False, False, False, False, False, False, False, False, False, False, False, False, False, False, False, False, False, False, False, False])\n",
    "\n",
    "X = x_all[:95]\n",
    "y = y_all[:95]\n",
    "\n",
    "critical = y[y == True]\n",
    "\n",
    "var_min = [ 0, 0, 0,1, 100, 100, 0,5]\n",
    "var_max = [ 0, 0, 20, 50, 100, 100,20,10]\n",
    "\n",
    "print(\"critical :\" + str(len(critical)))\n",
    "print(\"not critical :\" + str(len(X) - len(critical)))\n",
    "\n",
    "clf = tree.DecisionTreeClassifier(min_samples_split=75)\n",
    "clf = clf.fit(X, y)\n",
    "\n",
    "tree.plot_tree(clf)\n",
    "\n",
    "r = tree.export_text(clf)\n",
    "print(r)\n",
    "\n",
    "n_nodes = clf.tree_.node_count\n",
    "children_left = clf.tree_.children_left\n",
    "children_right = clf.tree_.children_right\n",
    "feature = clf.tree_.feature\n",
    "threshold = clf.tree_.threshold\n",
    "n_node_samples= clf.tree_.n_node_samples\n",
    "values= clf.tree_.value\n",
    "\n",
    "\n",
    "print(\"n_nodes: \"+ str(n_nodes))\n",
    "print(\"child left : \" + str(children_left))\n",
    "print(\"child right : \" +str(children_right))\n",
    "print(\"feature: \"+ str(feature))\n",
    "print(\"threshold: \"+ str(threshold))\n",
    "print(\"n_node_samples: \"+ str(n_node_samples))\n",
    "print(\"values: \" + str(values))\n",
    "\n",
    "\n",
    "leafs = []\n",
    "prediction = clf.predict([[0,0,0,0,0,0,0,0]])\n",
    "\n",
    "#print(prediction)\n",
    "\n",
    "# node_indicator = clf.decision_path(X)\n",
    "\n",
    "classResults = clf.apply(X)\n",
    "\n",
    "def ind_in_node(node_id,classResults, pop):\n",
    "    inds = []\n",
    "    for i in range(0,len(classResults)):\n",
    "        if classResults[i] == node_id:\n",
    "            inds.append(pop[i])\n",
    "    return inds\n",
    "\n",
    "ind_s_in_node = ind_in_node(0,classResults=classResults,pop=x_all)\n",
    "\n",
    "print(\"ind_s in node:\" + str(ind_s_in_node))\n",
    "\n",
    "print(classResults)"
   ]
  },
  {
   "cell_type": "code",
   "execution_count": 3,
   "id": "c5fc959f",
   "metadata": {},
   "outputs": [
    {
     "name": "stdout",
     "output_type": "stream",
     "text": [
      "0\n",
      "1\n",
      "2\n"
     ]
    }
   ],
   "source": [
    "array = [2,2,3]\n",
    "\n",
    "for i in range(0,len(array)):\n",
    "    print(i)"
   ]
  },
  {
   "cell_type": "code",
   "execution_count": 4,
   "id": "236de456",
   "metadata": {},
   "outputs": [
    {
     "name": "stdout",
     "output_type": "stream",
     "text": [
      "64.0\n"
     ]
    }
   ],
   "source": [
    "import math\n",
    "\n",
    "def findNextDivident(n,k):\n",
    "    i = 1\n",
    "    v = k\n",
    "    while v < n:\n",
    "        v = k*i\n",
    "        i = i + 1\n",
    "    return v\n",
    "\n",
    "print(findNextDivident(37,4))"
   ]
  },
  {
   "cell_type": "code",
   "execution_count": 20,
   "id": "0b964e1a",
   "metadata": {},
   "outputs": [
    {
     "name": "stdout",
     "output_type": "stream",
     "text": [
      "{1: 0, 3: 2, 2: 0, 4: 2}\n"
     ]
    }
   ],
   "source": [
    "\n",
    "\n",
    "\n",
    "\n",
    "\n",
    "    "
   ]
  },
  {
   "cell_type": "code",
   "execution_count": 5,
   "id": "20315e7f",
   "metadata": {},
   "outputs": [
    {
     "name": "stdout",
     "output_type": "stream",
     "text": [
      "[False  True False  True  True]\n"
     ]
    }
   ],
   "source": [
    "node_depth = np.zeros(shape=n_nodes, dtype=np.int64)\n",
    "is_leaves = np.zeros(shape=n_nodes, dtype=bool)\n",
    "stack = [(0, 0)]  # start with the root node id (0) and its depth (0)\n",
    "while len(stack) > 0:\n",
    "    # `pop` ensures each node is only visited once\n",
    "    node_id, depth = stack.pop()\n",
    "    node_depth[node_id] = depth\n",
    "\n",
    "    # If the left and right child of a node is not the same we have a split\n",
    "    # node\n",
    "    is_split_node = children_left[node_id] != children_right[node_id]\n",
    "    # If a split node, append left and right children and depth to `stack`\n",
    "    # so we can loop through them\n",
    "    if is_split_node:\n",
    "        stack.append((children_left[node_id], depth + 1))\n",
    "        stack.append((children_right[node_id], depth + 1))\n",
    "    else:\n",
    "        is_leaves[node_id] = True\n",
    "print(is_leaves)\n",
    "\n",
    "\n"
   ]
  },
  {
   "cell_type": "code",
   "execution_count": 6,
   "id": "64becf42",
   "metadata": {},
   "outputs": [
    {
     "name": "stdout",
     "output_type": "stream",
     "text": [
      "{1: {'critical': 19.0, 'notCritical': 0.0}, 3: {'critical': 23.0, 'notCritical': 7.0}, 4: {'critical': 19.0, 'notCritical': 27.0}}\n",
      "[1, 3]\n"
     ]
    },
    {
     "data": {
      "text/plain": [
       "[]"
      ]
     },
     "execution_count": 6,
     "metadata": {},
     "output_type": "execute_result"
    }
   ],
   "source": [
    "leafsLib = {}\n",
    "criticalReg = []\n",
    "\n",
    "CP = 0.6\n",
    "\n",
    "indCrit = 1\n",
    "indNotCri = 0\n",
    "for i in range(0,n_nodes):\n",
    "    # print(node.get_label())\n",
    "    # print(node.get_name())\n",
    "    if  is_leaves[i]:\n",
    "        valuesNodeI = values[i][0]\n",
    "        leafsLib[i] = {\"critical\" : 0, \"notCritical\" : 0}\n",
    "        leafsLib[i][\"critical\"]= valuesNodeI[indCrit]\n",
    "        leafsLib[i][\"notCritical\"] = valuesNodeI[indNotCri]\n",
    "        if(valuesNodeI[indCrit]/(valuesNodeI[indCrit] +valuesNodeI[indNotCri]) > CP):\n",
    "            criticalReg.append(i)\n",
    "\n",
    "print(leafsLib)\n",
    "print(criticalReg)\n",
    "\n",
    "[]\n",
    "\n",
    "\n"
   ]
  },
  {
   "cell_type": "code",
   "execution_count": 12,
   "id": "a6d1db59",
   "metadata": {},
   "outputs": [
    {
     "name": "stdout",
     "output_type": "stream",
     "text": [
      "{1: 0, 3: 2, 2: 0, 4: 2}\n",
      "at: 0\n",
      "feature 6 > 7.372337818145752\n",
      "at: 2\n",
      "feature 2 > 11.188113689422607\n",
      "at: 0\n",
      "feature 6 > 7.372337818145752\n",
      "n cr regions:2\n",
      "[0, 0, 0, 1, 100, 100, 0, 5]\n",
      "[0, 0, 20, 50, 100, 100, 20, 10]\n",
      "bound for region 0 is ([0, 0, 0, 1, 100, 100, 7.373337818145752, 5], [0, 0, 20, 50, 100, 100, 20, 10])\n",
      "bound for region 1 is ([0, 0, 11.189113689422607, 1, 100, 100, 7.373337818145752, 5], [0, 0, 20, 50, 100, 100, 20, 10])\n"
     ]
    }
   ],
   "source": [
    "import numpy as np\n",
    "import copy\n",
    "\n",
    "classResults_np = np.array(classResults)\n",
    "node_indicator = clf.decision_path(X)\n",
    "\n",
    "def getParentsTree(ch_left, ch_right):\n",
    "    result = {}\n",
    "    for i in range(0,len(ch_left)):\n",
    "        if(ch_left[i]!=-1):\n",
    "            result[ch_left[i]] = i\n",
    "\n",
    "    for i in range(0,len(ch_right)):\n",
    "        if(ch_right[i]!=-1):\n",
    "            result[ch_right[i]] = i\n",
    "    return result\n",
    "\n",
    "parents = getParentsTree(children_left,children_right)\n",
    "\n",
    "print(parents)\n",
    "\n",
    "def getPredecessors(node_id):\n",
    "    result = []\n",
    "    node = node_id\n",
    "    while node != 0:\n",
    "        result.append(parents[node])\n",
    "        node = parents[node]\n",
    "    return result\n",
    "\n",
    "var_min = [ 0, 0, 0,1, 100, 100, 0,5]\n",
    "var_max = [ 0, 0, 20, 50, 100, 100,20,10]\n",
    "\n",
    "# get features from critical regions to explore regions\n",
    "bounds= []\n",
    "delta = 0.001\n",
    "\n",
    "\n",
    "for i in criticalReg:\n",
    "    #sample in class i \n",
    "    upperReg = copy.deepcopy(var_max)\n",
    "    lowerReg = copy.deepcopy(var_min)\n",
    "\n",
    "    # if(i in children_left):\n",
    "    #     upperReg[feature[i]] = threshold[i]\n",
    "    #     print(\"at: \"+ str(i))\n",
    "    #     print(\"feature {} <= {}\".format(feature[i],threshold[i]))\n",
    "\n",
    "    # else:\n",
    "    #     lowerReg[feature[i]] = threshold[i] + delta\n",
    "    #     print(\"at: \"+ str(i))\n",
    "    #     print(\"feature {} > {}\".format(feature[i],threshold[i]))\n",
    "\n",
    "\n",
    "    for j in getPredecessors(i):\n",
    "        if(j in children_left and j == 0 ):\n",
    "            upperReg[feature[j]] = threshold[j]\n",
    "            print(\"at: \"+ str(j))\n",
    "\n",
    "            print(\"feature {} <= {}\".format(feature[j],threshold[j]))\n",
    "        else:\n",
    "            lowerReg[feature[j]] = threshold[j] + delta\n",
    "            print(\"at: \"+ str(j))\n",
    "            print(\"feature {} > {}\".format(feature[j],threshold[j]))\n",
    "\n",
    "\n",
    "    bounds.append((lowerReg,upperReg))\n",
    "\n",
    "print(\"n cr regions:\" + str(len(criticalReg)))\n",
    "\n",
    "for i in range(0,len(bounds)):\n",
    "    print(\"bound for region {} is {}\".format(i,bounds[i]))\n",
    "\n"
   ]
  },
  {
   "cell_type": "code",
   "execution_count": 2,
   "id": "9895c6b2",
   "metadata": {},
   "outputs": [],
   "source": [
    "import os\n",
    "\n",
    "#CURRENT_DIR = os.path.dirname(os.path.abspath(__file__))\n",
    "CURRENT_DIR = os.path.abspath(os.getcwd())"
   ]
  },
  {
   "cell_type": "code",
   "execution_count": 23,
   "id": "ce20c3b3",
   "metadata": {},
   "outputs": [],
   "source": [
    "\n",
    "import pydotplus  \n",
    "dot_data = tree.export_graphviz(clf, out_file=None,filled=True, rounded=True,  # leaves_parallel=True, \n",
    "                     special_characters=True)  \n",
    "graph = pydotplus.graph_from_dot_data(dot_data)  \n",
    "graph.write_pdf(CURRENT_DIR + \"dt_test.pdf\")  \n",
    "\n",
    "nodes = graph.get_node_list()\n",
    "\n"
   ]
  },
  {
   "cell_type": "code",
   "execution_count": 1,
   "id": "c816ad61",
   "metadata": {},
   "outputs": [
    {
     "name": "stdout",
     "output_type": "stream",
     "text": [
      "[4, 6, 8, 10, 12, 14, 16, 18, 20, 22, 24, 26, 28, 30, 32, 34, 36, 38, 40, 42, 44, 46, 48, 50, 52, 54, 56, 58, 60, 62, 64, 66, 68, 70, 72, 74, 76, 78, 80, 82, 84, 86, 88, 90, 92, 94, 96, 98]\n"
     ]
    }
   ],
   "source": [
    "a  = [i for i in range(1,100)]\n",
    "print(a[3::2])"
   ]
  },
  {
   "cell_type": "code",
   "execution_count": 5,
   "id": "2e5e2d4a",
   "metadata": {},
   "outputs": [
    {
     "name": "stdout",
     "output_type": "stream",
     "text": [
      "['/dsfdsf/file', 'txt']\n"
     ]
    }
   ],
   "source": [
    "path = \"/dsfdsf/file.txt\"\n",
    "\n",
    "print(path.split(\".\"))\n"
   ]
  }
 ],
 "metadata": {
  "kernelspec": {
   "display_name": "Python 3 (ipykernel)",
   "language": "python",
   "name": "python3"
  },
  "language_info": {
   "codemirror_mode": {
    "name": "ipython",
    "version": 3
   },
   "file_extension": ".py",
   "mimetype": "text/x-python",
   "name": "python",
   "nbconvert_exporter": "python",
   "pygments_lexer": "ipython3",
   "version": "3.9.8"
  }
 },
 "nbformat": 4,
 "nbformat_minor": 5
}
